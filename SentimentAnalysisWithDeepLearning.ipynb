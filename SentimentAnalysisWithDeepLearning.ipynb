{
  "nbformat": 4,
  "nbformat_minor": 0,
  "metadata": {
    "colab": {
      "name": "SentimentAnalysisWithDeepLearning.ipynb",
      "provenance": [],
      "collapsed_sections": [
        "dRAC2rkpYTX3",
        "fJ9N_4nFzI6S",
        "BWTXUqyD1u8S",
        "rJyAqMe96G5X",
        "fj9PUoFu8tax",
        "_951mXrX9tCY",
        "00o5kmVM_h6K",
        "dG4S6JAqd4lT",
        "sOpG6159wF6m",
        "aKzOhx8FxngS",
        "qrlm_a473snx",
        "TlFGeGxr5kU2",
        "J_9Fx6je_w5q"
      ],
      "toc_visible": true
    },
    "kernelspec": {
      "display_name": "Python 3",
      "name": "python3"
    },
    "language_info": {
      "name": "python"
    }
  },
  "cells": [
    {
      "cell_type": "markdown",
      "metadata": {
        "id": "Fn8IHTRNYEcd"
      },
      "source": [
        "# Sentiment Analysis with Deep Learning\n",
        "\n",
        "Mi contribucion a la actividad integradora 3 de la clase de NLP.\n",
        "\n"
      ]
    },
    {
      "cell_type": "markdown",
      "metadata": {
        "id": "dRAC2rkpYTX3"
      },
      "source": [
        "## Recoleccion y procesamiento de datos\n",
        "\n",
        "\n"
      ]
    },
    {
      "cell_type": "markdown",
      "metadata": {
        "id": "PMtthwdlerN6"
      },
      "source": [
        "1- El primer dataset se llama \"Large Movie review Dataset\", fue publicado por stanford ai y tiene 50k de reviews, para mas información: http://ai.stanford.edu/~amaas/data/sentiment/\n",
        "\n",
        "Tomado de: https://www.kaggle.com/lakshmi25npathi/imdb-dataset-of-50k-movie-reviews\n",
        "\n",
        "2- El segundo dataset es un subset del dataset \"Sentiment140\", el cual fue procesado en la tarea 9, lo guardamos para integrarlo en esta actividad y el cual tiene 400k tweets, para mas información: https://www.kaggle.com/kazanova/sentiment140\n",
        "\n",
        "Tomado de: https://www.kaggle.com/kazanova/sentiment140"
      ]
    },
    {
      "cell_type": "markdown",
      "metadata": {
        "id": "UmlZ2r0JYNj8"
      },
      "source": [
        "Sube el archivo con tus credenciales de kaggle antes de iniciar."
      ]
    },
    {
      "cell_type": "code",
      "metadata": {
        "colab": {
          "base_uri": "https://localhost:8080/"
        },
        "id": "maYaVFmxcY_t",
        "outputId": "cf3d24dd-126f-4975-820d-f4a11f49a8b0"
      },
      "source": [
        "! git clone https://github.com/Emile199/SentimentAnalysis-Tensorflow.git"
      ],
      "execution_count": null,
      "outputs": [
        {
          "output_type": "stream",
          "name": "stdout",
          "text": [
            "Cloning into 'SentimentAnalysis-Tensorflow'...\n",
            "remote: Enumerating objects: 28, done.\u001b[K\n",
            "remote: Counting objects: 100% (28/28), done.\u001b[K\n",
            "remote: Compressing objects: 100% (24/24), done.\u001b[K\n",
            "remote: Total 28 (delta 5), reused 20 (delta 3), pack-reused 0\u001b[K\n",
            "Unpacking objects: 100% (28/28), done.\n"
          ]
        }
      ]
    },
    {
      "cell_type": "code",
      "metadata": {
        "colab": {
          "base_uri": "https://localhost:8080/"
        },
        "id": "sAN0z3wqXs4_",
        "outputId": "f89bdac2-4cba-4393-8c49-46ce251f1db7"
      },
      "source": [
        "! pip install -r /content/SentimentAnalysis-Tensorflow/requirements.txt"
      ],
      "execution_count": null,
      "outputs": [
        {
          "output_type": "stream",
          "name": "stdout",
          "text": [
            "Requirement already satisfied: pandas in /usr/local/lib/python3.7/dist-packages (from -r /content/SentimentAnalysis-Tensorflow/requirements.txt (line 1)) (1.1.5)\n",
            "Requirement already satisfied: matplotlib in /usr/local/lib/python3.7/dist-packages (from -r /content/SentimentAnalysis-Tensorflow/requirements.txt (line 2)) (3.2.2)\n",
            "Requirement already satisfied: tweepy in /usr/local/lib/python3.7/dist-packages (from -r /content/SentimentAnalysis-Tensorflow/requirements.txt (line 3)) (3.10.0)\n",
            "Requirement already satisfied: numpy in /usr/local/lib/python3.7/dist-packages (from -r /content/SentimentAnalysis-Tensorflow/requirements.txt (line 4)) (1.19.5)\n",
            "Requirement already satisfied: tensorflow in /usr/local/lib/python3.7/dist-packages (from -r /content/SentimentAnalysis-Tensorflow/requirements.txt (line 5)) (2.6.0)\n",
            "Requirement already satisfied: keras in /usr/local/lib/python3.7/dist-packages (from -r /content/SentimentAnalysis-Tensorflow/requirements.txt (line 6)) (2.6.0)\n",
            "Requirement already satisfied: sklearn in /usr/local/lib/python3.7/dist-packages (from -r /content/SentimentAnalysis-Tensorflow/requirements.txt (line 7)) (0.0)\n",
            "Collecting praw\n",
            "  Downloading praw-7.4.0-py3-none-any.whl (167 kB)\n",
            "\u001b[K     |████████████████████████████████| 167 kB 38.3 MB/s \n",
            "\u001b[?25hRequirement already satisfied: kaggle in /usr/local/lib/python3.7/dist-packages (from -r /content/SentimentAnalysis-Tensorflow/requirements.txt (line 9)) (1.5.12)\n",
            "Requirement already satisfied: nltk in /usr/local/lib/python3.7/dist-packages (from -r /content/SentimentAnalysis-Tensorflow/requirements.txt (line 10)) (3.2.5)\n",
            "Collecting speechbrain\n",
            "  Downloading speechbrain-0.5.10-py3-none-any.whl (393 kB)\n",
            "\u001b[K     |████████████████████████████████| 393 kB 59.3 MB/s \n",
            "\u001b[?25hCollecting pytumblr\n",
            "  Downloading PyTumblr-0.1.0-py2.py3-none-any.whl (15 kB)\n",
            "\u001b[31mERROR: Could not find a version that satisfies the requirement cv2 (from versions: none)\u001b[0m\n",
            "\u001b[31mERROR: No matching distribution found for cv2\u001b[0m\n"
          ]
        }
      ]
    },
    {
      "cell_type": "code",
      "metadata": {
        "id": "3suoxgStX-07"
      },
      "source": [
        "! mkdir ~/.kaggle"
      ],
      "execution_count": null,
      "outputs": []
    },
    {
      "cell_type": "code",
      "metadata": {
        "id": "ZEiUnrR1YBIQ"
      },
      "source": [
        "! cp kaggle.json ~/.kaggle/"
      ],
      "execution_count": null,
      "outputs": []
    },
    {
      "cell_type": "code",
      "metadata": {
        "id": "JGvFiTM8YDdd"
      },
      "source": [
        "! chmod 600 ~/.kaggle/kaggle.json"
      ],
      "execution_count": null,
      "outputs": []
    },
    {
      "cell_type": "code",
      "metadata": {
        "colab": {
          "base_uri": "https://localhost:8080/"
        },
        "id": "N_CovZgWYXsm",
        "outputId": "6bc565fb-af33-4c1a-aebf-d7e304cb23c4"
      },
      "source": [
        "! kaggle datasets download -d lakshmi25npathi/imdb-dataset-of-50k-movie-reviews"
      ],
      "execution_count": null,
      "outputs": [
        {
          "output_type": "stream",
          "name": "stdout",
          "text": [
            "Downloading imdb-dataset-of-50k-movie-reviews.zip to /content\n",
            " 97% 25.0M/25.7M [00:00<00:00, 59.5MB/s]\n",
            "100% 25.7M/25.7M [00:00<00:00, 74.1MB/s]\n"
          ]
        }
      ]
    },
    {
      "cell_type": "code",
      "metadata": {
        "colab": {
          "base_uri": "https://localhost:8080/"
        },
        "id": "JAwQP7GXYknz",
        "outputId": "e663003f-d622-44da-c3e2-4d90f8c7d536"
      },
      "source": [
        "! unzip imdb-dataset-of-50k-movie-reviews.zip"
      ],
      "execution_count": null,
      "outputs": [
        {
          "output_type": "stream",
          "name": "stdout",
          "text": [
            "Archive:  imdb-dataset-of-50k-movie-reviews.zip\n",
            "  inflating: IMDB Dataset.csv        \n"
          ]
        }
      ]
    },
    {
      "cell_type": "code",
      "metadata": {
        "colab": {
          "base_uri": "https://localhost:8080/"
        },
        "id": "eGAl8TlqYp2m",
        "outputId": "587279f8-37e8-4b04-e8c9-5a2a5e3b4129"
      },
      "source": [
        "import pandas as pd\n",
        "import numpy as np\n",
        "import nltk\n",
        "nltk.download('stopwords')\n",
        "nltk.download('punkt')\n",
        "nltk.download('averaged_perceptron_tagger')\n",
        "from nltk.tokenize import word_tokenize\n",
        "import re\n",
        "import matplotlib.pyplot as plt\n",
        "%matplotlib inline"
      ],
      "execution_count": null,
      "outputs": [
        {
          "output_type": "stream",
          "name": "stdout",
          "text": [
            "[nltk_data] Downloading package stopwords to /root/nltk_data...\n",
            "[nltk_data]   Unzipping corpora/stopwords.zip.\n",
            "[nltk_data] Downloading package punkt to /root/nltk_data...\n",
            "[nltk_data]   Unzipping tokenizers/punkt.zip.\n",
            "[nltk_data] Downloading package averaged_perceptron_tagger to\n",
            "[nltk_data]     /root/nltk_data...\n",
            "[nltk_data]   Unzipping taggers/averaged_perceptron_tagger.zip.\n"
          ]
        }
      ]
    },
    {
      "cell_type": "code",
      "metadata": {
        "colab": {
          "base_uri": "https://localhost:8080/",
          "height": 419
        },
        "id": "4xJIH-8_aaGl",
        "outputId": "5682c8af-c152-4b41-b232-94017247ce93"
      },
      "source": [
        "data_imdb = pd.read_csv('/content/imdb-dataset-of-50k-movie-reviews.zip')\n",
        "data_imdb"
      ],
      "execution_count": null,
      "outputs": [
        {
          "output_type": "execute_result",
          "data": {
            "text/html": [
              "<div>\n",
              "<style scoped>\n",
              "    .dataframe tbody tr th:only-of-type {\n",
              "        vertical-align: middle;\n",
              "    }\n",
              "\n",
              "    .dataframe tbody tr th {\n",
              "        vertical-align: top;\n",
              "    }\n",
              "\n",
              "    .dataframe thead th {\n",
              "        text-align: right;\n",
              "    }\n",
              "</style>\n",
              "<table border=\"1\" class=\"dataframe\">\n",
              "  <thead>\n",
              "    <tr style=\"text-align: right;\">\n",
              "      <th></th>\n",
              "      <th>review</th>\n",
              "      <th>sentiment</th>\n",
              "    </tr>\n",
              "  </thead>\n",
              "  <tbody>\n",
              "    <tr>\n",
              "      <th>0</th>\n",
              "      <td>One of the other reviewers has mentioned that ...</td>\n",
              "      <td>positive</td>\n",
              "    </tr>\n",
              "    <tr>\n",
              "      <th>1</th>\n",
              "      <td>A wonderful little production. &lt;br /&gt;&lt;br /&gt;The...</td>\n",
              "      <td>positive</td>\n",
              "    </tr>\n",
              "    <tr>\n",
              "      <th>2</th>\n",
              "      <td>I thought this was a wonderful way to spend ti...</td>\n",
              "      <td>positive</td>\n",
              "    </tr>\n",
              "    <tr>\n",
              "      <th>3</th>\n",
              "      <td>Basically there's a family where a little boy ...</td>\n",
              "      <td>negative</td>\n",
              "    </tr>\n",
              "    <tr>\n",
              "      <th>4</th>\n",
              "      <td>Petter Mattei's \"Love in the Time of Money\" is...</td>\n",
              "      <td>positive</td>\n",
              "    </tr>\n",
              "    <tr>\n",
              "      <th>...</th>\n",
              "      <td>...</td>\n",
              "      <td>...</td>\n",
              "    </tr>\n",
              "    <tr>\n",
              "      <th>49995</th>\n",
              "      <td>I thought this movie did a down right good job...</td>\n",
              "      <td>positive</td>\n",
              "    </tr>\n",
              "    <tr>\n",
              "      <th>49996</th>\n",
              "      <td>Bad plot, bad dialogue, bad acting, idiotic di...</td>\n",
              "      <td>negative</td>\n",
              "    </tr>\n",
              "    <tr>\n",
              "      <th>49997</th>\n",
              "      <td>I am a Catholic taught in parochial elementary...</td>\n",
              "      <td>negative</td>\n",
              "    </tr>\n",
              "    <tr>\n",
              "      <th>49998</th>\n",
              "      <td>I'm going to have to disagree with the previou...</td>\n",
              "      <td>negative</td>\n",
              "    </tr>\n",
              "    <tr>\n",
              "      <th>49999</th>\n",
              "      <td>No one expects the Star Trek movies to be high...</td>\n",
              "      <td>negative</td>\n",
              "    </tr>\n",
              "  </tbody>\n",
              "</table>\n",
              "<p>50000 rows × 2 columns</p>\n",
              "</div>"
            ],
            "text/plain": [
              "                                                  review sentiment\n",
              "0      One of the other reviewers has mentioned that ...  positive\n",
              "1      A wonderful little production. <br /><br />The...  positive\n",
              "2      I thought this was a wonderful way to spend ti...  positive\n",
              "3      Basically there's a family where a little boy ...  negative\n",
              "4      Petter Mattei's \"Love in the Time of Money\" is...  positive\n",
              "...                                                  ...       ...\n",
              "49995  I thought this movie did a down right good job...  positive\n",
              "49996  Bad plot, bad dialogue, bad acting, idiotic di...  negative\n",
              "49997  I am a Catholic taught in parochial elementary...  negative\n",
              "49998  I'm going to have to disagree with the previou...  negative\n",
              "49999  No one expects the Star Trek movies to be high...  negative\n",
              "\n",
              "[50000 rows x 2 columns]"
            ]
          },
          "metadata": {},
          "execution_count": 9
        }
      ]
    },
    {
      "cell_type": "code",
      "metadata": {
        "colab": {
          "base_uri": "https://localhost:8080/",
          "height": 419
        },
        "id": "t5sjs9LLoL6o",
        "outputId": "e6b916e2-c1b4-40ff-d414-c260ffa46d6a"
      },
      "source": [
        "data_imdb = (pd.get_dummies(data_imdb,columns=['sentiment'])).drop(columns='sentiment_negative')\n",
        "data_imdb"
      ],
      "execution_count": null,
      "outputs": [
        {
          "output_type": "execute_result",
          "data": {
            "text/html": [
              "<div>\n",
              "<style scoped>\n",
              "    .dataframe tbody tr th:only-of-type {\n",
              "        vertical-align: middle;\n",
              "    }\n",
              "\n",
              "    .dataframe tbody tr th {\n",
              "        vertical-align: top;\n",
              "    }\n",
              "\n",
              "    .dataframe thead th {\n",
              "        text-align: right;\n",
              "    }\n",
              "</style>\n",
              "<table border=\"1\" class=\"dataframe\">\n",
              "  <thead>\n",
              "    <tr style=\"text-align: right;\">\n",
              "      <th></th>\n",
              "      <th>review</th>\n",
              "      <th>sentiment_positive</th>\n",
              "    </tr>\n",
              "  </thead>\n",
              "  <tbody>\n",
              "    <tr>\n",
              "      <th>0</th>\n",
              "      <td>One of the other reviewers has mentioned that ...</td>\n",
              "      <td>1</td>\n",
              "    </tr>\n",
              "    <tr>\n",
              "      <th>1</th>\n",
              "      <td>A wonderful little production. &lt;br /&gt;&lt;br /&gt;The...</td>\n",
              "      <td>1</td>\n",
              "    </tr>\n",
              "    <tr>\n",
              "      <th>2</th>\n",
              "      <td>I thought this was a wonderful way to spend ti...</td>\n",
              "      <td>1</td>\n",
              "    </tr>\n",
              "    <tr>\n",
              "      <th>3</th>\n",
              "      <td>Basically there's a family where a little boy ...</td>\n",
              "      <td>0</td>\n",
              "    </tr>\n",
              "    <tr>\n",
              "      <th>4</th>\n",
              "      <td>Petter Mattei's \"Love in the Time of Money\" is...</td>\n",
              "      <td>1</td>\n",
              "    </tr>\n",
              "    <tr>\n",
              "      <th>...</th>\n",
              "      <td>...</td>\n",
              "      <td>...</td>\n",
              "    </tr>\n",
              "    <tr>\n",
              "      <th>49995</th>\n",
              "      <td>I thought this movie did a down right good job...</td>\n",
              "      <td>1</td>\n",
              "    </tr>\n",
              "    <tr>\n",
              "      <th>49996</th>\n",
              "      <td>Bad plot, bad dialogue, bad acting, idiotic di...</td>\n",
              "      <td>0</td>\n",
              "    </tr>\n",
              "    <tr>\n",
              "      <th>49997</th>\n",
              "      <td>I am a Catholic taught in parochial elementary...</td>\n",
              "      <td>0</td>\n",
              "    </tr>\n",
              "    <tr>\n",
              "      <th>49998</th>\n",
              "      <td>I'm going to have to disagree with the previou...</td>\n",
              "      <td>0</td>\n",
              "    </tr>\n",
              "    <tr>\n",
              "      <th>49999</th>\n",
              "      <td>No one expects the Star Trek movies to be high...</td>\n",
              "      <td>0</td>\n",
              "    </tr>\n",
              "  </tbody>\n",
              "</table>\n",
              "<p>50000 rows × 2 columns</p>\n",
              "</div>"
            ],
            "text/plain": [
              "                                                  review  sentiment_positive\n",
              "0      One of the other reviewers has mentioned that ...                   1\n",
              "1      A wonderful little production. <br /><br />The...                   1\n",
              "2      I thought this was a wonderful way to spend ti...                   1\n",
              "3      Basically there's a family where a little boy ...                   0\n",
              "4      Petter Mattei's \"Love in the Time of Money\" is...                   1\n",
              "...                                                  ...                 ...\n",
              "49995  I thought this movie did a down right good job...                   1\n",
              "49996  Bad plot, bad dialogue, bad acting, idiotic di...                   0\n",
              "49997  I am a Catholic taught in parochial elementary...                   0\n",
              "49998  I'm going to have to disagree with the previou...                   0\n",
              "49999  No one expects the Star Trek movies to be high...                   0\n",
              "\n",
              "[50000 rows x 2 columns]"
            ]
          },
          "metadata": {},
          "execution_count": 10
        }
      ]
    },
    {
      "cell_type": "code",
      "metadata": {
        "colab": {
          "base_uri": "https://localhost:8080/",
          "height": 315
        },
        "id": "042Byz9cpU4R",
        "outputId": "eed959ce-7c0e-4286-8b71-8e86e164cc2b"
      },
      "source": [
        "data_imdb.hist(column='sentiment_positive')"
      ],
      "execution_count": null,
      "outputs": [
        {
          "output_type": "execute_result",
          "data": {
            "text/plain": [
              "array([[<matplotlib.axes._subplots.AxesSubplot object at 0x7fdefcd5d750>]],\n",
              "      dtype=object)"
            ]
          },
          "metadata": {},
          "execution_count": 11
        },
        {
          "output_type": "display_data",
          "data": {
            "image/png": "[encoded data removed]",
            "text/plain": [
              "<Figure size 432x288 with 1 Axes>"
            ]
          },
          "metadata": {
            "needs_background": "light"
          }
        }
      ]
    },
    {
      "cell_type": "code",
      "metadata": {
        "id": "bj4VVxIMaLzY"
      },
      "source": [
        "#Las tomamos de la tarea 9, quitamos las palabras negativas\n",
        "\n",
        "stopwords_list = ['i','me','my','myself','we','our','ours','ourselves','you',\"you're\",\"you've\",\n",
        " \"you'll\",\"you'd\",'your','yours','yourself','yourselves','he','him','his','himself','she',\"she's\",\n",
        " 'her','hers','herself','it',\"it's\",'its','itself','they','them','their','theirs','themselves','what','which',\n",
        " 'who','whom','this','that',\"that'll\",'these','those','am','is','are','was','were','be','been',\n",
        " 'being','have','has','had','having','do','does','did','doing','a','an','the','and','but','if','or',\n",
        " 'because','as','until','while','of','at','by','for','with','about','against','between','into','through','during',\n",
        " 'before','after','above','below','to','from','up','down','in','out','on','off','over','under','again','further',\n",
        " 'then','once','here','there','when','where','why','how','all','any','both','each','few','more','most',\n",
        " 'other','some','such','only','own','same','so','than','too','very','s','t','can','will',\n",
        " 'just','don','should',\"should've\",'now','d','ll','m','o','re','ve','y','ain','br']\n",
        "\n",
        "stopwords = set(stopwords_list)"
      ],
      "execution_count": null,
      "outputs": []
    },
    {
      "cell_type": "code",
      "metadata": {
        "id": "8QgAKN0PaX-y"
      },
      "source": [
        "def remove_stopwords(text):\n",
        "  x = word_tokenize(text)\n",
        "  filtered_words = [word for word in x if word not in stopwords]\n",
        "  return \" \".join(filtered_words)\n",
        "\n",
        "def remove_special_characters(text):\n",
        "  x = re.sub('[^A-Za-z0-9]+', ' ', text)\n",
        "  return x.lower()\n",
        "\n",
        "def imdb_cleaning(text):\n",
        "  x = remove_special_characters(text)\n",
        "  x = remove_stopwords(x)\n",
        "  return x"
      ],
      "execution_count": null,
      "outputs": []
    },
    {
      "cell_type": "code",
      "metadata": {
        "colab": {
          "base_uri": "https://localhost:8080/",
          "height": 137
        },
        "id": "YM0GYvJmn855",
        "outputId": "4cb00919-0caa-4027-9d8d-890e6e628289"
      },
      "source": [
        "imdb_cleaning(data_imdb['review'][1])"
      ],
      "execution_count": null,
      "outputs": [
        {
          "output_type": "execute_result",
          "data": {
            "application/vnd.google.colaboratory.intrinsic+json": {
              "type": "string"
            },
            "text/plain": [
              "'wonderful little production filming technique unassuming old time bbc fashion gives comforting sometimes discomforting sense realism entire piece actors extremely well chosen michael sheen not got polari voices pat truly see seamless editing guided references williams diary entries not well worth watching terrificly written performed piece masterful production one great master comedy life realism really comes home little things fantasy guard rather use traditional dream techniques remains solid disappears plays knowledge senses particularly scenes concerning orton halliwell sets particularly flat halliwell murals decorating every surface terribly well done'"
            ]
          },
          "metadata": {},
          "execution_count": 14
        }
      ]
    },
    {
      "cell_type": "code",
      "metadata": {
        "colab": {
          "base_uri": "https://localhost:8080/",
          "height": 419
        },
        "id": "BLmN5YtLrIUk",
        "outputId": "192e07a1-1c62-4137-ac80-11fa827b9cc2"
      },
      "source": [
        "data_imdb['review'] = data_imdb['review'].apply(lambda x: imdb_cleaning(x))\n",
        "data_imdb"
      ],
      "execution_count": null,
      "outputs": [
        {
          "output_type": "execute_result",
          "data": {
            "text/html": [
              "<div>\n",
              "<style scoped>\n",
              "    .dataframe tbody tr th:only-of-type {\n",
              "        vertical-align: middle;\n",
              "    }\n",
              "\n",
              "    .dataframe tbody tr th {\n",
              "        vertical-align: top;\n",
              "    }\n",
              "\n",
              "    .dataframe thead th {\n",
              "        text-align: right;\n",
              "    }\n",
              "</style>\n",
              "<table border=\"1\" class=\"dataframe\">\n",
              "  <thead>\n",
              "    <tr style=\"text-align: right;\">\n",
              "      <th></th>\n",
              "      <th>review</th>\n",
              "      <th>sentiment_positive</th>\n",
              "    </tr>\n",
              "  </thead>\n",
              "  <tbody>\n",
              "    <tr>\n",
              "      <th>0</th>\n",
              "      <td>one reviewers mentioned watching 1 oz episode ...</td>\n",
              "      <td>1</td>\n",
              "    </tr>\n",
              "    <tr>\n",
              "      <th>1</th>\n",
              "      <td>wonderful little production filming technique ...</td>\n",
              "      <td>1</td>\n",
              "    </tr>\n",
              "    <tr>\n",
              "      <th>2</th>\n",
              "      <td>thought wonderful way spend time hot summer we...</td>\n",
              "      <td>1</td>\n",
              "    </tr>\n",
              "    <tr>\n",
              "      <th>3</th>\n",
              "      <td>basically family little boy jake thinks zombie...</td>\n",
              "      <td>0</td>\n",
              "    </tr>\n",
              "    <tr>\n",
              "      <th>4</th>\n",
              "      <td>petter mattei love time money visually stunnin...</td>\n",
              "      <td>1</td>\n",
              "    </tr>\n",
              "    <tr>\n",
              "      <th>...</th>\n",
              "      <td>...</td>\n",
              "      <td>...</td>\n",
              "    </tr>\n",
              "    <tr>\n",
              "      <th>49995</th>\n",
              "      <td>thought movie right good job wasn creative ori...</td>\n",
              "      <td>1</td>\n",
              "    </tr>\n",
              "    <tr>\n",
              "      <th>49996</th>\n",
              "      <td>bad plot bad dialogue bad acting idiotic direc...</td>\n",
              "      <td>0</td>\n",
              "    </tr>\n",
              "    <tr>\n",
              "      <th>49997</th>\n",
              "      <td>catholic taught parochial elementary schools n...</td>\n",
              "      <td>0</td>\n",
              "    </tr>\n",
              "    <tr>\n",
              "      <th>49998</th>\n",
              "      <td>going disagree previous comment side maltin on...</td>\n",
              "      <td>0</td>\n",
              "    </tr>\n",
              "    <tr>\n",
              "      <th>49999</th>\n",
              "      <td>no one expects star trek movies high art fans ...</td>\n",
              "      <td>0</td>\n",
              "    </tr>\n",
              "  </tbody>\n",
              "</table>\n",
              "<p>50000 rows × 2 columns</p>\n",
              "</div>"
            ],
            "text/plain": [
              "                                                  review  sentiment_positive\n",
              "0      one reviewers mentioned watching 1 oz episode ...                   1\n",
              "1      wonderful little production filming technique ...                   1\n",
              "2      thought wonderful way spend time hot summer we...                   1\n",
              "3      basically family little boy jake thinks zombie...                   0\n",
              "4      petter mattei love time money visually stunnin...                   1\n",
              "...                                                  ...                 ...\n",
              "49995  thought movie right good job wasn creative ori...                   1\n",
              "49996  bad plot bad dialogue bad acting idiotic direc...                   0\n",
              "49997  catholic taught parochial elementary schools n...                   0\n",
              "49998  going disagree previous comment side maltin on...                   0\n",
              "49999  no one expects star trek movies high art fans ...                   0\n",
              "\n",
              "[50000 rows x 2 columns]"
            ]
          },
          "metadata": {},
          "execution_count": 15
        }
      ]
    },
    {
      "cell_type": "code",
      "metadata": {
        "colab": {
          "base_uri": "https://localhost:8080/",
          "height": 204
        },
        "id": "n-teN-xXuJdy",
        "outputId": "4a93aa37-2265-418f-87f5-efbd20f1d53d"
      },
      "source": [
        "#cambiamos los nombre de la columna para concatenar este dataset con sentiment140\n",
        "\n",
        "data_imdb.columns = ['text','sentiment']\n",
        "data_imdb.head(5)"
      ],
      "execution_count": null,
      "outputs": [
        {
          "output_type": "execute_result",
          "data": {
            "text/html": [
              "<div>\n",
              "<style scoped>\n",
              "    .dataframe tbody tr th:only-of-type {\n",
              "        vertical-align: middle;\n",
              "    }\n",
              "\n",
              "    .dataframe tbody tr th {\n",
              "        vertical-align: top;\n",
              "    }\n",
              "\n",
              "    .dataframe thead th {\n",
              "        text-align: right;\n",
              "    }\n",
              "</style>\n",
              "<table border=\"1\" class=\"dataframe\">\n",
              "  <thead>\n",
              "    <tr style=\"text-align: right;\">\n",
              "      <th></th>\n",
              "      <th>text</th>\n",
              "      <th>sentiment</th>\n",
              "    </tr>\n",
              "  </thead>\n",
              "  <tbody>\n",
              "    <tr>\n",
              "      <th>0</th>\n",
              "      <td>one reviewers mentioned watching 1 oz episode ...</td>\n",
              "      <td>1</td>\n",
              "    </tr>\n",
              "    <tr>\n",
              "      <th>1</th>\n",
              "      <td>wonderful little production filming technique ...</td>\n",
              "      <td>1</td>\n",
              "    </tr>\n",
              "    <tr>\n",
              "      <th>2</th>\n",
              "      <td>thought wonderful way spend time hot summer we...</td>\n",
              "      <td>1</td>\n",
              "    </tr>\n",
              "    <tr>\n",
              "      <th>3</th>\n",
              "      <td>basically family little boy jake thinks zombie...</td>\n",
              "      <td>0</td>\n",
              "    </tr>\n",
              "    <tr>\n",
              "      <th>4</th>\n",
              "      <td>petter mattei love time money visually stunnin...</td>\n",
              "      <td>1</td>\n",
              "    </tr>\n",
              "  </tbody>\n",
              "</table>\n",
              "</div>"
            ],
            "text/plain": [
              "                                                text  sentiment\n",
              "0  one reviewers mentioned watching 1 oz episode ...          1\n",
              "1  wonderful little production filming technique ...          1\n",
              "2  thought wonderful way spend time hot summer we...          1\n",
              "3  basically family little boy jake thinks zombie...          0\n",
              "4  petter mattei love time money visually stunnin...          1"
            ]
          },
          "metadata": {},
          "execution_count": 16
        }
      ]
    },
    {
      "cell_type": "code",
      "metadata": {
        "colab": {
          "base_uri": "https://localhost:8080/",
          "height": 419
        },
        "id": "gRKVYUrDujDM",
        "outputId": "b897cf0e-d265-49bd-eaff-5509bc1cb010"
      },
      "source": [
        "data_s140 = pd.read_csv('/content/SentimentAnalysis-Tensorflow/sentiment140_subset_400k',index_col=0)\n",
        "data_s140"
      ],
      "execution_count": null,
      "outputs": [
        {
          "output_type": "execute_result",
          "data": {
            "text/html": [
              "<div>\n",
              "<style scoped>\n",
              "    .dataframe tbody tr th:only-of-type {\n",
              "        vertical-align: middle;\n",
              "    }\n",
              "\n",
              "    .dataframe tbody tr th {\n",
              "        vertical-align: top;\n",
              "    }\n",
              "\n",
              "    .dataframe thead th {\n",
              "        text-align: right;\n",
              "    }\n",
              "</style>\n",
              "<table border=\"1\" class=\"dataframe\">\n",
              "  <thead>\n",
              "    <tr style=\"text-align: right;\">\n",
              "      <th></th>\n",
              "      <th>target</th>\n",
              "      <th>text</th>\n",
              "    </tr>\n",
              "  </thead>\n",
              "  <tbody>\n",
              "    <tr>\n",
              "      <th>0</th>\n",
              "      <td>0</td>\n",
              "      <td>damn ! ca n't watch soap opera</td>\n",
              "    </tr>\n",
              "    <tr>\n",
              "      <th>1</th>\n",
              "      <td>0</td>\n",
              "      <td>IM SO EXHAUSTED</td>\n",
              "    </tr>\n",
              "    <tr>\n",
              "      <th>2</th>\n",
              "      <td>0</td>\n",
              "      <td>I allergic reaction eating bagoong.. Damn.. I ...</td>\n",
              "    </tr>\n",
              "    <tr>\n",
              "      <th>3</th>\n",
              "      <td>1</td>\n",
              "      <td>My room almost theeeeere . Painting It tomorro...</td>\n",
              "    </tr>\n",
              "    <tr>\n",
              "      <th>4</th>\n",
              "      <td>0</td>\n",
              "      <td>50k ? I want cry . ONE 18 external JavaScript ...</td>\n",
              "    </tr>\n",
              "    <tr>\n",
              "      <th>...</th>\n",
              "      <td>...</td>\n",
              "      <td>...</td>\n",
              "    </tr>\n",
              "    <tr>\n",
              "      <th>399995</th>\n",
              "      <td>0</td>\n",
              "      <td>Anticipating weenie roast announcement morning...</td>\n",
              "    </tr>\n",
              "    <tr>\n",
              "      <th>399996</th>\n",
              "      <td>1</td>\n",
              "      <td>cheer buttercup ! Rain go away hearts always m...</td>\n",
              "    </tr>\n",
              "    <tr>\n",
              "      <th>399997</th>\n",
              "      <td>1</td>\n",
              "      <td>ive done homework . donno ... maybe 'll okay ....</td>\n",
              "    </tr>\n",
              "    <tr>\n",
              "      <th>399998</th>\n",
              "      <td>1</td>\n",
              "      <td>wait tour summer .</td>\n",
              "    </tr>\n",
              "    <tr>\n",
              "      <th>399999</th>\n",
              "      <td>0</td>\n",
              "      <td>thinks broke residents clothes dryer . fuck fu...</td>\n",
              "    </tr>\n",
              "  </tbody>\n",
              "</table>\n",
              "<p>400000 rows × 2 columns</p>\n",
              "</div>"
            ],
            "text/plain": [
              "        target                                               text\n",
              "0            0                     damn ! ca n't watch soap opera\n",
              "1            0                                    IM SO EXHAUSTED\n",
              "2            0  I allergic reaction eating bagoong.. Damn.. I ...\n",
              "3            1  My room almost theeeeere . Painting It tomorro...\n",
              "4            0  50k ? I want cry . ONE 18 external JavaScript ...\n",
              "...        ...                                                ...\n",
              "399995       0  Anticipating weenie roast announcement morning...\n",
              "399996       1  cheer buttercup ! Rain go away hearts always m...\n",
              "399997       1  ive done homework . donno ... maybe 'll okay ....\n",
              "399998       1                                 wait tour summer .\n",
              "399999       0  thinks broke residents clothes dryer . fuck fu...\n",
              "\n",
              "[400000 rows x 2 columns]"
            ]
          },
          "metadata": {},
          "execution_count": 17
        }
      ]
    },
    {
      "cell_type": "code",
      "metadata": {
        "colab": {
          "base_uri": "https://localhost:8080/",
          "height": 204
        },
        "id": "LuscOeWdu9Rj",
        "outputId": "9fc493c1-cdc4-490f-a299-5dbd52a75526"
      },
      "source": [
        "#Cambiamos los nombres de la columna para concatenar\n",
        "data_s140.columns = ['sentiment','text']\n",
        "data_s140 = data_s140[['text','sentiment']]\n",
        "data_s140.head(5)"
      ],
      "execution_count": null,
      "outputs": [
        {
          "output_type": "execute_result",
          "data": {
            "text/html": [
              "<div>\n",
              "<style scoped>\n",
              "    .dataframe tbody tr th:only-of-type {\n",
              "        vertical-align: middle;\n",
              "    }\n",
              "\n",
              "    .dataframe tbody tr th {\n",
              "        vertical-align: top;\n",
              "    }\n",
              "\n",
              "    .dataframe thead th {\n",
              "        text-align: right;\n",
              "    }\n",
              "</style>\n",
              "<table border=\"1\" class=\"dataframe\">\n",
              "  <thead>\n",
              "    <tr style=\"text-align: right;\">\n",
              "      <th></th>\n",
              "      <th>text</th>\n",
              "      <th>sentiment</th>\n",
              "    </tr>\n",
              "  </thead>\n",
              "  <tbody>\n",
              "    <tr>\n",
              "      <th>0</th>\n",
              "      <td>damn ! ca n't watch soap opera</td>\n",
              "      <td>0</td>\n",
              "    </tr>\n",
              "    <tr>\n",
              "      <th>1</th>\n",
              "      <td>IM SO EXHAUSTED</td>\n",
              "      <td>0</td>\n",
              "    </tr>\n",
              "    <tr>\n",
              "      <th>2</th>\n",
              "      <td>I allergic reaction eating bagoong.. Damn.. I ...</td>\n",
              "      <td>0</td>\n",
              "    </tr>\n",
              "    <tr>\n",
              "      <th>3</th>\n",
              "      <td>My room almost theeeeere . Painting It tomorro...</td>\n",
              "      <td>1</td>\n",
              "    </tr>\n",
              "    <tr>\n",
              "      <th>4</th>\n",
              "      <td>50k ? I want cry . ONE 18 external JavaScript ...</td>\n",
              "      <td>0</td>\n",
              "    </tr>\n",
              "  </tbody>\n",
              "</table>\n",
              "</div>"
            ],
            "text/plain": [
              "                                                text  sentiment\n",
              "0                     damn ! ca n't watch soap opera          0\n",
              "1                                    IM SO EXHAUSTED          0\n",
              "2  I allergic reaction eating bagoong.. Damn.. I ...          0\n",
              "3  My room almost theeeeere . Painting It tomorro...          1\n",
              "4  50k ? I want cry . ONE 18 external JavaScript ...          0"
            ]
          },
          "metadata": {},
          "execution_count": 18
        }
      ]
    },
    {
      "cell_type": "code",
      "metadata": {
        "colab": {
          "base_uri": "https://localhost:8080/",
          "height": 315
        },
        "id": "Oh_M1bWEvcTL",
        "outputId": "c13bf7e6-129c-4bf7-966a-2f6bb169ecae"
      },
      "source": [
        "data_s140.hist(column='sentiment')"
      ],
      "execution_count": null,
      "outputs": [
        {
          "output_type": "execute_result",
          "data": {
            "text/plain": [
              "array([[<matplotlib.axes._subplots.AxesSubplot object at 0x7fdef9731fd0>]],\n",
              "      dtype=object)"
            ]
          },
          "metadata": {},
          "execution_count": 19
        },
        {
          "output_type": "display_data",
          "data": {
            "image/png": "[encoded data removed]",
            "text/plain": [
              "<Figure size 432x288 with 1 Axes>"
            ]
          },
          "metadata": {
            "needs_background": "light"
          }
        }
      ]
    },
    {
      "cell_type": "code",
      "metadata": {
        "colab": {
          "base_uri": "https://localhost:8080/",
          "height": 419
        },
        "id": "weP3V9Mfvf6y",
        "outputId": "d7f7533c-325c-4db4-8682-d739801bc9eb"
      },
      "source": [
        "#Ya que vimos que nuestros datasets estan balanceados, los juntamos y los revolvemos\n",
        "from sklearn.utils import shuffle\n",
        "\n",
        "data = pd.concat([data_imdb,data_s140])\n",
        "data = (shuffle(data)).reset_index(drop=True)\n",
        "data"
      ],
      "execution_count": null,
      "outputs": [
        {
          "output_type": "execute_result",
          "data": {
            "text/html": [
              "<div>\n",
              "<style scoped>\n",
              "    .dataframe tbody tr th:only-of-type {\n",
              "        vertical-align: middle;\n",
              "    }\n",
              "\n",
              "    .dataframe tbody tr th {\n",
              "        vertical-align: top;\n",
              "    }\n",
              "\n",
              "    .dataframe thead th {\n",
              "        text-align: right;\n",
              "    }\n",
              "</style>\n",
              "<table border=\"1\" class=\"dataframe\">\n",
              "  <thead>\n",
              "    <tr style=\"text-align: right;\">\n",
              "      <th></th>\n",
              "      <th>text</th>\n",
              "      <th>sentiment</th>\n",
              "    </tr>\n",
              "  </thead>\n",
              "  <tbody>\n",
              "    <tr>\n",
              "      <th>0</th>\n",
              "      <td>bed time , good day , good weekend , work tomo...</td>\n",
              "      <td>1</td>\n",
              "    </tr>\n",
              "    <tr>\n",
              "      <th>1</th>\n",
              "      <td>Mine Yesterday wee sun ...</td>\n",
              "      <td>0</td>\n",
              "    </tr>\n",
              "    <tr>\n",
              "      <th>2</th>\n",
              "      <td>Back work . I enjoying time . Good thing 3 day...</td>\n",
              "      <td>0</td>\n",
              "    </tr>\n",
              "    <tr>\n",
              "      <th>3</th>\n",
              "      <td>horror movies lot fun low budgets bad acting b...</td>\n",
              "      <td>0</td>\n",
              "    </tr>\n",
              "    <tr>\n",
              "      <th>4</th>\n",
              "      <td>must go make lunch get ready work *sigh* anoth...</td>\n",
              "      <td>0</td>\n",
              "    </tr>\n",
              "    <tr>\n",
              "      <th>...</th>\n",
              "      <td>...</td>\n",
              "      <td>...</td>\n",
              "    </tr>\n",
              "    <tr>\n",
              "      <th>449995</th>\n",
              "      <td>On sugar rush . Two weeks next one Got ta eat ...</td>\n",
              "      <td>1</td>\n",
              "    </tr>\n",
              "    <tr>\n",
              "      <th>449996</th>\n",
              "      <td>not easy ! IT IS SO NOT EASY</td>\n",
              "      <td>0</td>\n",
              "    </tr>\n",
              "    <tr>\n",
              "      <th>449997</th>\n",
              "      <td>NaN</td>\n",
              "      <td>0</td>\n",
              "    </tr>\n",
              "    <tr>\n",
              "      <th>449998</th>\n",
              "      <td>thaaanks jamie ; want chinese food ! ! ! &amp; lt ...</td>\n",
              "      <td>0</td>\n",
              "    </tr>\n",
              "    <tr>\n",
              "      <th>449999</th>\n",
              "      <td>It 's beautiful outside I no inclination go in...</td>\n",
              "      <td>0</td>\n",
              "    </tr>\n",
              "  </tbody>\n",
              "</table>\n",
              "<p>450000 rows × 2 columns</p>\n",
              "</div>"
            ],
            "text/plain": [
              "                                                     text  sentiment\n",
              "0       bed time , good day , good weekend , work tomo...          1\n",
              "1                              Mine Yesterday wee sun ...          0\n",
              "2       Back work . I enjoying time . Good thing 3 day...          0\n",
              "3       horror movies lot fun low budgets bad acting b...          0\n",
              "4       must go make lunch get ready work *sigh* anoth...          0\n",
              "...                                                   ...        ...\n",
              "449995  On sugar rush . Two weeks next one Got ta eat ...          1\n",
              "449996                       not easy ! IT IS SO NOT EASY          0\n",
              "449997                                                NaN          0\n",
              "449998  thaaanks jamie ; want chinese food ! ! ! & lt ...          0\n",
              "449999  It 's beautiful outside I no inclination go in...          0\n",
              "\n",
              "[450000 rows x 2 columns]"
            ]
          },
          "metadata": {},
          "execution_count": 20
        }
      ]
    },
    {
      "cell_type": "code",
      "metadata": {
        "id": "YD9M7tTC0jLj"
      },
      "source": [
        "data['text'] = data['text'].apply(lambda x: str(x))"
      ],
      "execution_count": null,
      "outputs": []
    },
    {
      "cell_type": "markdown",
      "metadata": {
        "id": "fJ9N_4nFzI6S"
      },
      "source": [
        "## Creacion del embedding y preparacion de secuencias"
      ]
    },
    {
      "cell_type": "markdown",
      "metadata": {
        "id": "6ybVWFC4tQc4"
      },
      "source": [
        "Utilizaremos GloVee con vectores de dimension 300"
      ]
    },
    {
      "cell_type": "code",
      "metadata": {
        "colab": {
          "base_uri": "https://localhost:8080/"
        },
        "id": "9JKI2IO0xdJ0",
        "outputId": "3be8b3f2-4e36-41da-d989-9075e2e9b6cc"
      },
      "source": [
        "! wget http://nlp.stanford.edu/data/glove.6B.zip"
      ],
      "execution_count": null,
      "outputs": [
        {
          "output_type": "stream",
          "name": "stdout",
          "text": [
            "--2021-11-01 05:23:15--  http://nlp.stanford.edu/data/glove.6B.zip\n",
            "Resolving nlp.stanford.edu (nlp.stanford.edu)... 171.64.67.140\n",
            "Connecting to nlp.stanford.edu (nlp.stanford.edu)|171.64.67.140|:80... connected.\n",
            "HTTP request sent, awaiting response... 302 Found\n",
            "Location: https://nlp.stanford.edu/data/glove.6B.zip [following]\n",
            "--2021-11-01 05:23:15--  https://nlp.stanford.edu/data/glove.6B.zip\n",
            "Connecting to nlp.stanford.edu (nlp.stanford.edu)|171.64.67.140|:443... connected.\n",
            "HTTP request sent, awaiting response... 301 Moved Permanently\n",
            "Location: http://downloads.cs.stanford.edu/nlp/data/glove.6B.zip [following]\n",
            "--2021-11-01 05:23:16--  http://downloads.cs.stanford.edu/nlp/data/glove.6B.zip\n",
            "Resolving downloads.cs.stanford.edu (downloads.cs.stanford.edu)... 171.64.64.22\n",
            "Connecting to downloads.cs.stanford.edu (downloads.cs.stanford.edu)|171.64.64.22|:80... connected.\n",
            "HTTP request sent, awaiting response... 200 OK\n",
            "Length: 862182613 (822M) [application/zip]\n",
            "Saving to: ‘glove.6B.zip’\n",
            "\n",
            "glove.6B.zip        100%[===================>] 822.24M  4.94MB/s    in 2m 41s  \n",
            "\n",
            "2021-11-01 05:25:57 (5.09 MB/s) - ‘glove.6B.zip’ saved [862182613/862182613]\n",
            "\n"
          ]
        }
      ]
    },
    {
      "cell_type": "code",
      "metadata": {
        "colab": {
          "base_uri": "https://localhost:8080/"
        },
        "id": "O69WF1gmy4lq",
        "outputId": "9ac340bd-e959-4fe5-f2c4-21a636555df1"
      },
      "source": [
        "! unzip glove.6B.zip"
      ],
      "execution_count": null,
      "outputs": [
        {
          "output_type": "stream",
          "name": "stdout",
          "text": [
            "Archive:  glove.6B.zip\n",
            "  inflating: glove.6B.50d.txt        \n",
            "  inflating: glove.6B.100d.txt       \n",
            "  inflating: glove.6B.200d.txt       \n",
            "  inflating: glove.6B.300d.txt       \n"
          ]
        }
      ]
    },
    {
      "cell_type": "code",
      "metadata": {
        "id": "ckIt4UETy70N"
      },
      "source": [
        "#Se tarda\n",
        "f = open(\"/content/glove.6B.300d.txt\",\"r\")\n",
        "\n",
        "words = []\n",
        "vectores = []\n",
        "\n",
        "for line in f:\n",
        "  tokens = line.split()\n",
        "  words.append(tokens[0])\n",
        "  vectores.append((np.array(tokens[1:])).astype(np.float))\n",
        "\n",
        "\n",
        "glove300_dict = dict(zip(words,vectores))\n",
        "\n",
        "f.close()"
      ],
      "execution_count": null,
      "outputs": []
    },
    {
      "cell_type": "code",
      "metadata": {
        "id": "31RV1McN0V9X"
      },
      "source": [
        "import tensorflow as tf\n",
        "import keras\n",
        "from tensorflow.keras.preprocessing.text import Tokenizer\n",
        "from tensorflow.keras.preprocessing.sequence import pad_sequences\n"
      ],
      "execution_count": null,
      "outputs": []
    },
    {
      "cell_type": "code",
      "metadata": {
        "id": "2VRfp6lyz_g6"
      },
      "source": [
        "tokenizer = Tokenizer(num_words=None, lower=True)"
      ],
      "execution_count": null,
      "outputs": []
    },
    {
      "cell_type": "code",
      "metadata": {
        "id": "wa__vmdN0DVz"
      },
      "source": [
        "corpus = []\n",
        "for x in range(len(data)):\n",
        "  corpus.append(data['text'][x])"
      ],
      "execution_count": null,
      "outputs": []
    },
    {
      "cell_type": "code",
      "metadata": {
        "id": "7bGL6pxj0IOG"
      },
      "source": [
        "tokenizer.fit_on_texts(corpus)"
      ],
      "execution_count": null,
      "outputs": []
    },
    {
      "cell_type": "code",
      "metadata": {
        "colab": {
          "base_uri": "https://localhost:8080/"
        },
        "id": "xXNzv8kN01tf",
        "outputId": "91056ad0-cc15-47ca-952e-e47322469d50"
      },
      "source": [
        "len(tokenizer.word_index)"
      ],
      "execution_count": null,
      "outputs": [
        {
          "output_type": "execute_result",
          "data": {
            "text/plain": [
              "182949"
            ]
          },
          "metadata": {},
          "execution_count": 29
        }
      ]
    },
    {
      "cell_type": "code",
      "metadata": {
        "id": "4Krdzwq_07e3"
      },
      "source": [
        "sequences = tokenizer.texts_to_sequences(corpus)"
      ],
      "execution_count": null,
      "outputs": []
    },
    {
      "cell_type": "code",
      "metadata": {
        "colab": {
          "base_uri": "https://localhost:8080/"
        },
        "id": "0FT2dcvU1BET",
        "outputId": "0ea403a0-d441-4e4d-934a-d185d1158356"
      },
      "source": [
        "padded_sequences = pad_sequences(sequences)\n",
        "padded_sequences"
      ],
      "execution_count": null,
      "outputs": [
        {
          "output_type": "execute_result",
          "data": {
            "text/plain": [
              "array([[    0,     0,     0, ...,   259, 67940,   945],\n",
              "       [    0,     0,     0, ...,   538,  3890,   553],\n",
              "       [    0,     0,     0, ...,    91,    18,   257],\n",
              "       ...,\n",
              "       [    0,     0,     0, ...,     0,     0,  1434],\n",
              "       [    0,     0,     0, ...,  1546,   618,   345],\n",
              "       [    0,     0,     0, ...,    10,   358,    99]], dtype=int32)"
            ]
          },
          "metadata": {},
          "execution_count": 31
        }
      ]
    },
    {
      "cell_type": "code",
      "metadata": {
        "colab": {
          "base_uri": "https://localhost:8080/"
        },
        "id": "nAhmcDjG1VeB",
        "outputId": "3c32a093-2652-4d59-a696-64bbf87aa118"
      },
      "source": [
        "embedding = np.zeros((len(tokenizer.word_index)+1,300))\n",
        "\n",
        "for key, value in tokenizer.word_index.items():\n",
        "  try:\n",
        "    embedding[value,:] = glove300_dict[key]\n",
        "  except:\n",
        "    continue\n",
        "\n",
        "embedding"
      ],
      "execution_count": null,
      "outputs": [
        {
          "output_type": "execute_result",
          "data": {
            "text/plain": [
              "array([[ 0.       ,  0.       ,  0.       , ...,  0.       ,  0.       ,\n",
              "         0.       ],\n",
              "       [-0.13292  ,  0.16985  , -0.1436   , ..., -0.23778  ,  0.14766  ,\n",
              "         0.62902  ],\n",
              "       [-0.138    , -0.12203  ,  0.0054643, ...,  0.19934  ,  0.057473 ,\n",
              "        -0.023767 ],\n",
              "       ...,\n",
              "       [ 0.       ,  0.       ,  0.       , ...,  0.       ,  0.       ,\n",
              "         0.       ],\n",
              "       [ 0.       ,  0.       ,  0.       , ...,  0.       ,  0.       ,\n",
              "         0.       ],\n",
              "       [ 0.       ,  0.       ,  0.       , ...,  0.       ,  0.       ,\n",
              "         0.       ]])"
            ]
          },
          "metadata": {},
          "execution_count": 32
        }
      ]
    },
    {
      "cell_type": "code",
      "metadata": {
        "colab": {
          "base_uri": "https://localhost:8080/"
        },
        "id": "lDJ5dTU-1bAU",
        "outputId": "4afbab28-df28-4a2a-c626-1d88460a065a"
      },
      "source": [
        "embedding.shape"
      ],
      "execution_count": null,
      "outputs": [
        {
          "output_type": "execute_result",
          "data": {
            "text/plain": [
              "(182950, 300)"
            ]
          },
          "metadata": {},
          "execution_count": 33
        }
      ]
    },
    {
      "cell_type": "code",
      "metadata": {
        "id": "nfhnVPaA1rmI"
      },
      "source": [
        "from sklearn.model_selection import train_test_split\n",
        "\n",
        "X = padded_sequences\n",
        "y = np.array(pd.DataFrame(data['sentiment']))\n",
        "\n",
        "X_train, X_test, y_train, y_test = train_test_split( X, y, test_size=0.20, random_state=42)"
      ],
      "execution_count": null,
      "outputs": []
    },
    {
      "cell_type": "markdown",
      "metadata": {
        "id": "BWTXUqyD1u8S"
      },
      "source": [
        "## Entrenamiento y creacion de modelos (No hay que correrlo de nuevo)"
      ]
    },
    {
      "cell_type": "code",
      "metadata": {
        "id": "XkbUTsto6Nzo"
      },
      "source": [
        "from tensorflow.keras.layers import Dense, LSTM, Embedding, Dropout, Bidirectional, GRU\n",
        "from tensorflow.keras.models import Sequential\n",
        "from tensorflow.keras.optimizers import Adam\n",
        "from tensorflow.keras.metrics import binary_crossentropy"
      ],
      "execution_count": null,
      "outputs": []
    },
    {
      "cell_type": "code",
      "metadata": {
        "colab": {
          "base_uri": "https://localhost:8080/",
          "height": 225
        },
        "id": "8IblJrXJ8huL",
        "outputId": "c7d4cd0f-f284-42da-9003-04e8dd3ea18e"
      },
      "source": [
        "#Solo en caso que se este utilizando GPU\n",
        "device_name = tf.test.gpu_device_name()\n",
        "if device_name != '/device:GPU:0':\n",
        "  raise SystemError('GPU device not found')\n",
        "print('Found GPU at: {}'.format(device_name))"
      ],
      "execution_count": null,
      "outputs": [
        {
          "ename": "SystemError",
          "evalue": "ignored",
          "output_type": "error",
          "traceback": [
            "\u001b[0;31m---------------------------------------------------------------------------\u001b[0m",
            "\u001b[0;31mSystemError\u001b[0m                               Traceback (most recent call last)",
            "\u001b[0;32m<ipython-input-39-8b5c6a50d925>\u001b[0m in \u001b[0;36m<module>\u001b[0;34m()\u001b[0m\n\u001b[1;32m      2\u001b[0m \u001b[0mdevice_name\u001b[0m \u001b[0;34m=\u001b[0m \u001b[0mtf\u001b[0m\u001b[0;34m.\u001b[0m\u001b[0mtest\u001b[0m\u001b[0;34m.\u001b[0m\u001b[0mgpu_device_name\u001b[0m\u001b[0;34m(\u001b[0m\u001b[0;34m)\u001b[0m\u001b[0;34m\u001b[0m\u001b[0;34m\u001b[0m\u001b[0m\n\u001b[1;32m      3\u001b[0m \u001b[0;32mif\u001b[0m \u001b[0mdevice_name\u001b[0m \u001b[0;34m!=\u001b[0m \u001b[0;34m'/device:GPU:0'\u001b[0m\u001b[0;34m:\u001b[0m\u001b[0;34m\u001b[0m\u001b[0;34m\u001b[0m\u001b[0m\n\u001b[0;32m----> 4\u001b[0;31m   \u001b[0;32mraise\u001b[0m \u001b[0mSystemError\u001b[0m\u001b[0;34m(\u001b[0m\u001b[0;34m'GPU device not found'\u001b[0m\u001b[0;34m)\u001b[0m\u001b[0;34m\u001b[0m\u001b[0;34m\u001b[0m\u001b[0m\n\u001b[0m\u001b[1;32m      5\u001b[0m \u001b[0mprint\u001b[0m\u001b[0;34m(\u001b[0m\u001b[0;34m'Found GPU at: {}'\u001b[0m\u001b[0;34m.\u001b[0m\u001b[0mformat\u001b[0m\u001b[0;34m(\u001b[0m\u001b[0mdevice_name\u001b[0m\u001b[0;34m)\u001b[0m\u001b[0;34m)\u001b[0m\u001b[0;34m\u001b[0m\u001b[0;34m\u001b[0m\u001b[0m\n",
            "\u001b[0;31mSystemError\u001b[0m: GPU device not found"
          ]
        }
      ]
    },
    {
      "cell_type": "code",
      "metadata": {
        "colab": {
          "base_uri": "https://localhost:8080/"
        },
        "id": "4xgKno2n8kpK",
        "outputId": "65964593-8a0c-4711-c090-c15fb2382130"
      },
      "source": [
        "#Solo en caso que se este utilizando GPU\n",
        "tf.device('/device:GPU:0')"
      ],
      "execution_count": null,
      "outputs": [
        {
          "data": {
            "text/plain": [
              "<tensorflow.python.eager.context._EagerDeviceContext at 0x7f4cda84eaa0>"
            ]
          },
          "execution_count": 49,
          "metadata": {},
          "output_type": "execute_result"
        }
      ]
    },
    {
      "cell_type": "code",
      "metadata": {
        "id": "iN86QS88-FF5"
      },
      "source": [
        "#Funcion para graficar la curva de aprendizaje y el accuracy\n",
        "def graficar_metrica(history,epochs,metrica): #metrica= accuracy o loss\n",
        "  epoch_nums = range(1,epochs+1)\n",
        "  training_loss = history.history[metrica]\n",
        "  validation_loss = history.history[\"val_\"+str(metrica)]\n",
        "  fig = plt.plot(epoch_nums, training_loss)\n",
        "  plt.plot(epoch_nums, validation_loss)\n",
        "  plt.xlabel('epoch')\n",
        "  plt.ylabel(metrica)\n",
        "  plt.legend(['training', 'validation'], loc='upper right')\n",
        "  plt.show()"
      ],
      "execution_count": null,
      "outputs": []
    },
    {
      "cell_type": "markdown",
      "metadata": {
        "id": "rJyAqMe96G5X"
      },
      "source": [
        "### Primer Modelo"
      ]
    },
    {
      "cell_type": "code",
      "metadata": {
        "id": "FQYUfv6v45HD"
      },
      "source": [
        "model1 = Sequential([\n",
        "    Embedding((len(tokenizer.word_index))+1, 300, weights=[embedding], trainable=False),\n",
        "    LSTM(10),\n",
        "    Dropout(0.2),\n",
        "    Dense(1,activation='sigmoid')\n",
        "])"
      ],
      "execution_count": null,
      "outputs": []
    },
    {
      "cell_type": "code",
      "metadata": {
        "colab": {
          "base_uri": "https://localhost:8080/"
        },
        "id": "5cs63e776rhF",
        "outputId": "becb37ea-23a3-48b5-dae5-623ce03c3262"
      },
      "source": [
        "model1.summary()"
      ],
      "execution_count": null,
      "outputs": [
        {
          "name": "stdout",
          "output_type": "stream",
          "text": [
            "Model: \"sequential\"\n",
            "_________________________________________________________________\n",
            "Layer (type)                 Output Shape              Param #   \n",
            "=================================================================\n",
            "embedding (Embedding)        (None, None, 300)         54885000  \n",
            "_________________________________________________________________\n",
            "lstm (LSTM)                  (None, 10)                12440     \n",
            "_________________________________________________________________\n",
            "dropout (Dropout)            (None, 10)                0         \n",
            "_________________________________________________________________\n",
            "dense (Dense)                (None, 1)                 11        \n",
            "=================================================================\n",
            "Total params: 54,897,451\n",
            "Trainable params: 12,451\n",
            "Non-trainable params: 54,885,000\n",
            "_________________________________________________________________\n"
          ]
        }
      ]
    },
    {
      "cell_type": "code",
      "metadata": {
        "id": "8144Lhpo608l"
      },
      "source": [
        "model1.compile(optimizer=\"adam\", loss='binary_crossentropy', metrics=['accuracy'])"
      ],
      "execution_count": null,
      "outputs": []
    },
    {
      "cell_type": "code",
      "metadata": {
        "colab": {
          "base_uri": "https://localhost:8080/",
          "height": 376
        },
        "id": "iP-KLlf-67P_",
        "outputId": "87052ce6-cfb4-43d2-c54f-0ea9d9c0c2fb"
      },
      "source": [
        "history1 = model1.fit(x=X_train, y=y_train, epochs=8, batch_size=100,validation_data=(X_test, y_test))"
      ],
      "execution_count": null,
      "outputs": [
        {
          "name": "stdout",
          "output_type": "stream",
          "text": [
            "Epoch 1/8\n",
            "1540/3600 [===========>..................] - ETA: 21:30 - loss: 0.5319 - accuracy: 0.7364"
          ]
        },
        {
          "ename": "KeyboardInterrupt",
          "evalue": "ignored",
          "output_type": "error",
          "traceback": [
            "\u001b[0;31m---------------------------------------------------------------------------\u001b[0m",
            "\u001b[0;31mKeyboardInterrupt\u001b[0m                         Traceback (most recent call last)",
            "\u001b[0;32m<ipython-input-44-8ececa3aef43>\u001b[0m in \u001b[0;36m<module>\u001b[0;34m()\u001b[0m\n\u001b[0;32m----> 1\u001b[0;31m \u001b[0mhistory1\u001b[0m \u001b[0;34m=\u001b[0m \u001b[0mmodel1\u001b[0m\u001b[0;34m.\u001b[0m\u001b[0mfit\u001b[0m\u001b[0;34m(\u001b[0m\u001b[0mx\u001b[0m\u001b[0;34m=\u001b[0m\u001b[0mX_train\u001b[0m\u001b[0;34m,\u001b[0m \u001b[0my\u001b[0m\u001b[0;34m=\u001b[0m\u001b[0my_train\u001b[0m\u001b[0;34m,\u001b[0m \u001b[0mepochs\u001b[0m\u001b[0;34m=\u001b[0m\u001b[0;36m8\u001b[0m\u001b[0;34m,\u001b[0m \u001b[0mbatch_size\u001b[0m\u001b[0;34m=\u001b[0m\u001b[0;36m100\u001b[0m\u001b[0;34m,\u001b[0m\u001b[0mvalidation_data\u001b[0m\u001b[0;34m=\u001b[0m\u001b[0;34m(\u001b[0m\u001b[0mX_test\u001b[0m\u001b[0;34m,\u001b[0m \u001b[0my_test\u001b[0m\u001b[0;34m)\u001b[0m\u001b[0;34m)\u001b[0m\u001b[0;34m\u001b[0m\u001b[0;34m\u001b[0m\u001b[0m\n\u001b[0m",
            "\u001b[0;32m/usr/local/lib/python3.7/dist-packages/keras/engine/training.py\u001b[0m in \u001b[0;36mfit\u001b[0;34m(self, x, y, batch_size, epochs, verbose, callbacks, validation_split, validation_data, shuffle, class_weight, sample_weight, initial_epoch, steps_per_epoch, validation_steps, validation_batch_size, validation_freq, max_queue_size, workers, use_multiprocessing)\u001b[0m\n\u001b[1;32m   1182\u001b[0m                 _r=1):\n\u001b[1;32m   1183\u001b[0m               \u001b[0mcallbacks\u001b[0m\u001b[0;34m.\u001b[0m\u001b[0mon_train_batch_begin\u001b[0m\u001b[0;34m(\u001b[0m\u001b[0mstep\u001b[0m\u001b[0;34m)\u001b[0m\u001b[0;34m\u001b[0m\u001b[0;34m\u001b[0m\u001b[0m\n\u001b[0;32m-> 1184\u001b[0;31m               \u001b[0mtmp_logs\u001b[0m \u001b[0;34m=\u001b[0m \u001b[0mself\u001b[0m\u001b[0;34m.\u001b[0m\u001b[0mtrain_function\u001b[0m\u001b[0;34m(\u001b[0m\u001b[0miterator\u001b[0m\u001b[0;34m)\u001b[0m\u001b[0;34m\u001b[0m\u001b[0;34m\u001b[0m\u001b[0m\n\u001b[0m\u001b[1;32m   1185\u001b[0m               \u001b[0;32mif\u001b[0m \u001b[0mdata_handler\u001b[0m\u001b[0;34m.\u001b[0m\u001b[0mshould_sync\u001b[0m\u001b[0;34m:\u001b[0m\u001b[0;34m\u001b[0m\u001b[0;34m\u001b[0m\u001b[0m\n\u001b[1;32m   1186\u001b[0m                 \u001b[0mcontext\u001b[0m\u001b[0;34m.\u001b[0m\u001b[0masync_wait\u001b[0m\u001b[0;34m(\u001b[0m\u001b[0;34m)\u001b[0m\u001b[0;34m\u001b[0m\u001b[0;34m\u001b[0m\u001b[0m\n",
            "\u001b[0;32m/usr/local/lib/python3.7/dist-packages/tensorflow/python/eager/def_function.py\u001b[0m in \u001b[0;36m__call__\u001b[0;34m(self, *args, **kwds)\u001b[0m\n\u001b[1;32m    883\u001b[0m \u001b[0;34m\u001b[0m\u001b[0m\n\u001b[1;32m    884\u001b[0m       \u001b[0;32mwith\u001b[0m \u001b[0mOptionalXlaContext\u001b[0m\u001b[0;34m(\u001b[0m\u001b[0mself\u001b[0m\u001b[0;34m.\u001b[0m\u001b[0m_jit_compile\u001b[0m\u001b[0;34m)\u001b[0m\u001b[0;34m:\u001b[0m\u001b[0;34m\u001b[0m\u001b[0;34m\u001b[0m\u001b[0m\n\u001b[0;32m--> 885\u001b[0;31m         \u001b[0mresult\u001b[0m \u001b[0;34m=\u001b[0m \u001b[0mself\u001b[0m\u001b[0;34m.\u001b[0m\u001b[0m_call\u001b[0m\u001b[0;34m(\u001b[0m\u001b[0;34m*\u001b[0m\u001b[0margs\u001b[0m\u001b[0;34m,\u001b[0m \u001b[0;34m**\u001b[0m\u001b[0mkwds\u001b[0m\u001b[0;34m)\u001b[0m\u001b[0;34m\u001b[0m\u001b[0;34m\u001b[0m\u001b[0m\n\u001b[0m\u001b[1;32m    886\u001b[0m \u001b[0;34m\u001b[0m\u001b[0m\n\u001b[1;32m    887\u001b[0m       \u001b[0mnew_tracing_count\u001b[0m \u001b[0;34m=\u001b[0m \u001b[0mself\u001b[0m\u001b[0;34m.\u001b[0m\u001b[0mexperimental_get_tracing_count\u001b[0m\u001b[0;34m(\u001b[0m\u001b[0;34m)\u001b[0m\u001b[0;34m\u001b[0m\u001b[0;34m\u001b[0m\u001b[0m\n",
            "\u001b[0;32m/usr/local/lib/python3.7/dist-packages/tensorflow/python/eager/def_function.py\u001b[0m in \u001b[0;36m_call\u001b[0;34m(self, *args, **kwds)\u001b[0m\n\u001b[1;32m    915\u001b[0m       \u001b[0;31m# In this case we have created variables on the first call, so we run the\u001b[0m\u001b[0;34m\u001b[0m\u001b[0;34m\u001b[0m\u001b[0;34m\u001b[0m\u001b[0m\n\u001b[1;32m    916\u001b[0m       \u001b[0;31m# defunned version which is guaranteed to never create variables.\u001b[0m\u001b[0;34m\u001b[0m\u001b[0;34m\u001b[0m\u001b[0;34m\u001b[0m\u001b[0m\n\u001b[0;32m--> 917\u001b[0;31m       \u001b[0;32mreturn\u001b[0m \u001b[0mself\u001b[0m\u001b[0;34m.\u001b[0m\u001b[0m_stateless_fn\u001b[0m\u001b[0;34m(\u001b[0m\u001b[0;34m*\u001b[0m\u001b[0margs\u001b[0m\u001b[0;34m,\u001b[0m \u001b[0;34m**\u001b[0m\u001b[0mkwds\u001b[0m\u001b[0;34m)\u001b[0m  \u001b[0;31m# pylint: disable=not-callable\u001b[0m\u001b[0;34m\u001b[0m\u001b[0;34m\u001b[0m\u001b[0m\n\u001b[0m\u001b[1;32m    918\u001b[0m     \u001b[0;32melif\u001b[0m \u001b[0mself\u001b[0m\u001b[0;34m.\u001b[0m\u001b[0m_stateful_fn\u001b[0m \u001b[0;32mis\u001b[0m \u001b[0;32mnot\u001b[0m \u001b[0;32mNone\u001b[0m\u001b[0;34m:\u001b[0m\u001b[0;34m\u001b[0m\u001b[0;34m\u001b[0m\u001b[0m\n\u001b[1;32m    919\u001b[0m       \u001b[0;31m# Release the lock early so that multiple threads can perform the call\u001b[0m\u001b[0;34m\u001b[0m\u001b[0;34m\u001b[0m\u001b[0;34m\u001b[0m\u001b[0m\n",
            "\u001b[0;32m/usr/local/lib/python3.7/dist-packages/tensorflow/python/eager/function.py\u001b[0m in \u001b[0;36m__call__\u001b[0;34m(self, *args, **kwargs)\u001b[0m\n\u001b[1;32m   3038\u001b[0m        filtered_flat_args) = self._maybe_define_function(args, kwargs)\n\u001b[1;32m   3039\u001b[0m     return graph_function._call_flat(\n\u001b[0;32m-> 3040\u001b[0;31m         filtered_flat_args, captured_inputs=graph_function.captured_inputs)  # pylint: disable=protected-access\n\u001b[0m\u001b[1;32m   3041\u001b[0m \u001b[0;34m\u001b[0m\u001b[0m\n\u001b[1;32m   3042\u001b[0m   \u001b[0;34m@\u001b[0m\u001b[0mproperty\u001b[0m\u001b[0;34m\u001b[0m\u001b[0;34m\u001b[0m\u001b[0m\n",
            "\u001b[0;32m/usr/local/lib/python3.7/dist-packages/tensorflow/python/eager/function.py\u001b[0m in \u001b[0;36m_call_flat\u001b[0;34m(self, args, captured_inputs, cancellation_manager)\u001b[0m\n\u001b[1;32m   1962\u001b[0m       \u001b[0;31m# No tape is watching; skip to running the function.\u001b[0m\u001b[0;34m\u001b[0m\u001b[0;34m\u001b[0m\u001b[0;34m\u001b[0m\u001b[0m\n\u001b[1;32m   1963\u001b[0m       return self._build_call_outputs(self._inference_function.call(\n\u001b[0;32m-> 1964\u001b[0;31m           ctx, args, cancellation_manager=cancellation_manager))\n\u001b[0m\u001b[1;32m   1965\u001b[0m     forward_backward = self._select_forward_and_backward_functions(\n\u001b[1;32m   1966\u001b[0m         \u001b[0margs\u001b[0m\u001b[0;34m,\u001b[0m\u001b[0;34m\u001b[0m\u001b[0;34m\u001b[0m\u001b[0m\n",
            "\u001b[0;32m/usr/local/lib/python3.7/dist-packages/tensorflow/python/eager/function.py\u001b[0m in \u001b[0;36mcall\u001b[0;34m(self, ctx, args, cancellation_manager)\u001b[0m\n\u001b[1;32m    594\u001b[0m               \u001b[0minputs\u001b[0m\u001b[0;34m=\u001b[0m\u001b[0margs\u001b[0m\u001b[0;34m,\u001b[0m\u001b[0;34m\u001b[0m\u001b[0;34m\u001b[0m\u001b[0m\n\u001b[1;32m    595\u001b[0m               \u001b[0mattrs\u001b[0m\u001b[0;34m=\u001b[0m\u001b[0mattrs\u001b[0m\u001b[0;34m,\u001b[0m\u001b[0;34m\u001b[0m\u001b[0;34m\u001b[0m\u001b[0m\n\u001b[0;32m--> 596\u001b[0;31m               ctx=ctx)\n\u001b[0m\u001b[1;32m    597\u001b[0m         \u001b[0;32melse\u001b[0m\u001b[0;34m:\u001b[0m\u001b[0;34m\u001b[0m\u001b[0;34m\u001b[0m\u001b[0m\n\u001b[1;32m    598\u001b[0m           outputs = execute.execute_with_cancellation(\n",
            "\u001b[0;32m/usr/local/lib/python3.7/dist-packages/tensorflow/python/eager/execute.py\u001b[0m in \u001b[0;36mquick_execute\u001b[0;34m(op_name, num_outputs, inputs, attrs, ctx, name)\u001b[0m\n\u001b[1;32m     58\u001b[0m     \u001b[0mctx\u001b[0m\u001b[0;34m.\u001b[0m\u001b[0mensure_initialized\u001b[0m\u001b[0;34m(\u001b[0m\u001b[0;34m)\u001b[0m\u001b[0;34m\u001b[0m\u001b[0;34m\u001b[0m\u001b[0m\n\u001b[1;32m     59\u001b[0m     tensors = pywrap_tfe.TFE_Py_Execute(ctx._handle, device_name, op_name,\n\u001b[0;32m---> 60\u001b[0;31m                                         inputs, attrs, num_outputs)\n\u001b[0m\u001b[1;32m     61\u001b[0m   \u001b[0;32mexcept\u001b[0m \u001b[0mcore\u001b[0m\u001b[0;34m.\u001b[0m\u001b[0m_NotOkStatusException\u001b[0m \u001b[0;32mas\u001b[0m \u001b[0me\u001b[0m\u001b[0;34m:\u001b[0m\u001b[0;34m\u001b[0m\u001b[0;34m\u001b[0m\u001b[0m\n\u001b[1;32m     62\u001b[0m     \u001b[0;32mif\u001b[0m \u001b[0mname\u001b[0m \u001b[0;32mis\u001b[0m \u001b[0;32mnot\u001b[0m \u001b[0;32mNone\u001b[0m\u001b[0;34m:\u001b[0m\u001b[0;34m\u001b[0m\u001b[0;34m\u001b[0m\u001b[0m\n",
            "\u001b[0;31mKeyboardInterrupt\u001b[0m: "
          ]
        }
      ]
    },
    {
      "cell_type": "code",
      "metadata": {
        "id": "gJR-BQ8o7EA1"
      },
      "source": [
        "model1.save('model1.h5')"
      ],
      "execution_count": null,
      "outputs": []
    },
    {
      "cell_type": "code",
      "metadata": {
        "colab": {
          "base_uri": "https://localhost:8080/",
          "height": 280
        },
        "id": "79g-1isn_BZA",
        "outputId": "fc220c9b-ff9a-482f-91f8-b1649705b013"
      },
      "source": [
        "graficar_metrica(history1,8,'loss')"
      ],
      "execution_count": null,
      "outputs": [
        {
          "data": {
            "image/png": "[encoded data removed]",
            "text/plain": [
              "<Figure size 432x288 with 1 Axes>"
            ]
          },
          "metadata": {},
          "output_type": "display_data"
        }
      ]
    },
    {
      "cell_type": "code",
      "metadata": {
        "colab": {
          "base_uri": "https://localhost:8080/",
          "height": 279
        },
        "id": "vAn-TzoD_KAO",
        "outputId": "a103b419-d8bc-4c81-b709-8584da02cfa5"
      },
      "source": [
        "graficar_metrica(history1,10,'accuracy')"
      ],
      "execution_count": null,
      "outputs": [
        {
          "data": {
            "image/png": "[encoded data removed]",
            "text/plain": [
              "<Figure size 432x288 with 1 Axes>"
            ]
          },
          "metadata": {},
          "output_type": "display_data"
        }
      ]
    },
    {
      "cell_type": "markdown",
      "metadata": {
        "id": "fj9PUoFu8tax"
      },
      "source": [
        "### Modelo 2"
      ]
    },
    {
      "cell_type": "code",
      "metadata": {
        "id": "_SE_rH5475Yx"
      },
      "source": [
        "model2 = Sequential([\n",
        "    Embedding((len(tokenizer.word_index))+1, 300, weights=[embedding], trainable=False),\n",
        "    Biderectional(LSTM(12)),\n",
        "    Dropout(0.2),\n",
        "    Dense(1,activation='sigmoid')\n",
        "])"
      ],
      "execution_count": null,
      "outputs": []
    },
    {
      "cell_type": "code",
      "metadata": {
        "id": "FR4xpbqq8126"
      },
      "source": [
        "model2.summary()"
      ],
      "execution_count": null,
      "outputs": []
    },
    {
      "cell_type": "code",
      "metadata": {
        "id": "NdBe3qvW9e2E"
      },
      "source": [
        "model2.compile(optimizer=\"adam\", loss='binary_crossentropy', metrics=['accuracy'])"
      ],
      "execution_count": null,
      "outputs": []
    },
    {
      "cell_type": "code",
      "metadata": {
        "id": "47HwMlIq9kDC"
      },
      "source": [
        "history2 = model2.fit(x=X_train, y=y_train, epochs=10, batch_size=100,validation_data=(X_test, y_test))"
      ],
      "execution_count": null,
      "outputs": []
    },
    {
      "cell_type": "code",
      "metadata": {
        "id": "g0Dhs9F_9rlz"
      },
      "source": [
        "model2.save('model2.h5')"
      ],
      "execution_count": null,
      "outputs": []
    },
    {
      "cell_type": "code",
      "metadata": {
        "id": "eM-eVx7i-9hm"
      },
      "source": [
        "graficar_metrica(history2,10,'loss')"
      ],
      "execution_count": null,
      "outputs": []
    },
    {
      "cell_type": "code",
      "metadata": {
        "id": "ptxYte4U_TjL"
      },
      "source": [
        "graficar_metrica(history2,10,'accuracy')"
      ],
      "execution_count": null,
      "outputs": []
    },
    {
      "cell_type": "markdown",
      "metadata": {
        "id": "_951mXrX9tCY"
      },
      "source": [
        "### Modelo 3"
      ]
    },
    {
      "cell_type": "code",
      "metadata": {
        "id": "Q1XgpfR79suU"
      },
      "source": [
        "model3 = Sequential([\n",
        "    Embedding((len(tokenizer.word_index))+1, 300, weights=[embedding], trainable=False),\n",
        "    GRU(12),\n",
        "    Dropout(0.2),\n",
        "    Dense(1,activation='sigmoid')\n",
        "])"
      ],
      "execution_count": null,
      "outputs": []
    },
    {
      "cell_type": "code",
      "metadata": {
        "colab": {
          "base_uri": "https://localhost:8080/"
        },
        "id": "uxLLRZO0-EHQ",
        "outputId": "61d2772a-2dcc-42f0-8773-217182fcc7c0"
      },
      "source": [
        "model3.summary()"
      ],
      "execution_count": null,
      "outputs": [
        {
          "name": "stdout",
          "output_type": "stream",
          "text": [
            "Model: \"sequential\"\n",
            "_________________________________________________________________\n",
            "Layer (type)                 Output Shape              Param #   \n",
            "=================================================================\n",
            "embedding (Embedding)        (None, None, 300)         54885000  \n",
            "_________________________________________________________________\n",
            "gru (GRU)                    (None, 12)                11304     \n",
            "_________________________________________________________________\n",
            "dropout (Dropout)            (None, 12)                0         \n",
            "_________________________________________________________________\n",
            "dense (Dense)                (None, 1)                 13        \n",
            "=================================================================\n",
            "Total params: 54,896,317\n",
            "Trainable params: 11,317\n",
            "Non-trainable params: 54,885,000\n",
            "_________________________________________________________________\n"
          ]
        }
      ]
    },
    {
      "cell_type": "code",
      "metadata": {
        "id": "2xvUY920-80l"
      },
      "source": [
        "model3.compile(optimizer=\"adam\", loss='binary_crossentropy', metrics=['accuracy'])"
      ],
      "execution_count": null,
      "outputs": []
    },
    {
      "cell_type": "code",
      "metadata": {
        "colab": {
          "base_uri": "https://localhost:8080/"
        },
        "id": "Ko7prTl__XYY",
        "outputId": "b706f00e-983c-4331-eff1-f1c8260a5676"
      },
      "source": [
        "history3 = model3.fit(x=X_train, y=y_train, epochs=10, batch_size=100,validation_data=(X_test, y_test))"
      ],
      "execution_count": null,
      "outputs": [
        {
          "name": "stdout",
          "output_type": "stream",
          "text": [
            "Epoch 1/10\n",
            "3600/3600 [==============================] - 595s 163ms/step - loss: 0.5056 - accuracy: 0.7520 - val_loss: 0.4623 - val_accuracy: 0.7807\n",
            "Epoch 2/10\n",
            "3600/3600 [==============================] - 584s 162ms/step - loss: 0.4638 - accuracy: 0.7808 - val_loss: 0.4498 - val_accuracy: 0.7882\n",
            "Epoch 3/10\n",
            "3600/3600 [==============================] - 561s 156ms/step - loss: 0.4528 - accuracy: 0.7876 - val_loss: 0.4441 - val_accuracy: 0.7926\n",
            "Epoch 4/10\n",
            "3600/3600 [==============================] - 596s 165ms/step - loss: 0.4471 - accuracy: 0.7910 - val_loss: 0.4408 - val_accuracy: 0.7939\n",
            "Epoch 5/10\n",
            "  90/3600 [..............................] - ETA: 8:30 - loss: 0.4375 - accuracy: 0.7949"
          ]
        }
      ]
    },
    {
      "cell_type": "code",
      "metadata": {
        "id": "0NWdG-xZ_Y_2"
      },
      "source": [
        "model3.save('model3.h5')"
      ],
      "execution_count": null,
      "outputs": []
    },
    {
      "cell_type": "code",
      "metadata": {
        "id": "SyiLI5Sf_bY6"
      },
      "source": [
        "graficar_metrica(history3,10,'loss')"
      ],
      "execution_count": null,
      "outputs": []
    },
    {
      "cell_type": "code",
      "metadata": {
        "id": "V_u5gtLc_ekm"
      },
      "source": [
        "graficar_metrica(history3,10,'accuracy')"
      ],
      "execution_count": null,
      "outputs": []
    },
    {
      "cell_type": "markdown",
      "metadata": {
        "id": "00o5kmVM_h6K"
      },
      "source": [
        "## Voting Classifier"
      ]
    },
    {
      "cell_type": "markdown",
      "metadata": {
        "id": "G_DtzN_a_kvZ"
      },
      "source": [
        "Fuentes para seguir investigando:\n",
        "\n",
        "- https://sailajakarra.medium.com/ensemble-scikit-learn-and-keras-be93206c54c4\n",
        "\n",
        "- https://scikit-learn.org/stable/modules/generated/sklearn.ensemble.VotingClassifier.html\n",
        "\n",
        "- https://www.tensorflow.org/api_docs/python/tf/keras/wrappers/scikit_learn"
      ]
    },
    {
      "cell_type": "code",
      "metadata": {
        "colab": {
          "base_uri": "https://localhost:8080/"
        },
        "id": "ZN1KfRXShPgS",
        "outputId": "ccb90510-517a-43c0-9b6f-8f9826ca4688"
      },
      "source": [
        "! gdown --id 1c2opxhofcuWokPkhnFicvj0FqMlCAFzl"
      ],
      "execution_count": null,
      "outputs": [
        {
          "output_type": "stream",
          "name": "stdout",
          "text": [
            "Downloading...\n",
            "From: https://drive.google.com/uc?id=1c2opxhofcuWokPkhnFicvj0FqMlCAFzl\n",
            "To: /content/modelos.zip\n",
            "100% 322M/322M [00:02<00:00, 140MB/s]\n"
          ]
        }
      ]
    },
    {
      "cell_type": "code",
      "metadata": {
        "colab": {
          "base_uri": "https://localhost:8080/"
        },
        "id": "jndcr4gBhsIz",
        "outputId": "5b2c1789-2ec2-4a13-e9b9-1551da002ed2"
      },
      "source": [
        "! unzip modelos.zip"
      ],
      "execution_count": null,
      "outputs": [
        {
          "output_type": "stream",
          "name": "stdout",
          "text": [
            "Archive:  modelos.zip\n",
            "  inflating: model1.h5               \n",
            "  inflating: model2.h5               \n",
            "  inflating: model3.h5               \n"
          ]
        }
      ]
    },
    {
      "cell_type": "code",
      "metadata": {
        "id": "rZbTvrt2RC-g"
      },
      "source": [
        "import os\n",
        "import tensorflow as tf\n",
        "from tensorflow import keras\n",
        "\n",
        "from tensorflow.keras.wrappers.scikit_learn import KerasClassifier"
      ],
      "execution_count": null,
      "outputs": []
    },
    {
      "cell_type": "code",
      "metadata": {
        "id": "K-RmHvdOQ78f"
      },
      "source": [
        "model1 = tf.keras.models.load_model('/content/model1.h5')\n",
        "model2 = tf.keras.models.load_model('/content/model2.h5')\n",
        "model3 = tf.keras.models.load_model('/content/model3.h5')"
      ],
      "execution_count": null,
      "outputs": []
    },
    {
      "cell_type": "code",
      "metadata": {
        "id": "-JpO0hggkBYj"
      },
      "source": [
        "model1.trainable = False\n",
        "model2.trainable = False\n",
        "model3.trainable = False"
      ],
      "execution_count": null,
      "outputs": []
    },
    {
      "cell_type": "code",
      "metadata": {
        "id": "RguakC06jfMn"
      },
      "source": [
        "def modelo1():\n",
        "  clf = Sequential([model1])\n",
        "  clf.compile(optimizer=\"adam\", loss='binary_crossentropy', metrics=['accuracy'])\n",
        "  return clf\n",
        "\n",
        "def modelo2():\n",
        "  clf = Sequential([model2])\n",
        "  clf.compile(optimizer=\"adam\", loss='binary_crossentropy', metrics=['accuracy'])\n",
        "  return clf\n",
        "\n",
        "def modelo3():\n",
        "  clf = Sequential([model3])\n",
        "  clf.compile(optimizer=\"adam\", loss='binary_crossentropy', metrics=['accuracy'])\n",
        "  return clf"
      ],
      "execution_count": null,
      "outputs": []
    },
    {
      "cell_type": "code",
      "metadata": {
        "id": "bbwKh5mhkZMc"
      },
      "source": [
        "model1_sk = KerasClassifier(modelo1,epochs = 0,verbose = 0)\n",
        "model1_sk._estimator_type = \"classifier\"\n",
        "model2_sk = KerasClassifier(modelo2,epochs = 0,verbose = 0)\n",
        "model2_sk._estimator_type = \"classifier\"\n",
        "model3_sk = KerasClassifier(modelo3,epochs = 0,verbose = 0)\n",
        "model3_sk._estimator_type = \"classifier\""
      ],
      "execution_count": null,
      "outputs": []
    },
    {
      "cell_type": "code",
      "metadata": {
        "colab": {
          "base_uri": "https://localhost:8080/"
        },
        "id": "3CHlTiuHsStk",
        "outputId": "42515edb-afb0-483c-cf2a-d1285e30d1e9"
      },
      "source": [
        "y_test[:10].flatten()"
      ],
      "execution_count": null,
      "outputs": [
        {
          "data": {
            "text/plain": [
              "array([1, 1, 0, 0, 1, 0, 1, 0, 1, 1])"
            ]
          },
          "execution_count": 70,
          "metadata": {},
          "output_type": "execute_result"
        }
      ]
    },
    {
      "cell_type": "code",
      "metadata": {
        "colab": {
          "base_uri": "https://localhost:8080/"
        },
        "id": "aJCUcAuKsbPb",
        "outputId": "d990c658-6613-4e21-c211-a35a6b4d82f3"
      },
      "source": [
        "X_test[:10]"
      ],
      "execution_count": null,
      "outputs": [
        {
          "data": {
            "text/plain": [
              "array([[    0,     0,     0, ...,   144,   164,    30],\n",
              "       [    0,     0,     0, ...,  1745,   599,   172],\n",
              "       [    0,     0,     0, ...,  1218,   315,   184],\n",
              "       ...,\n",
              "       [    0,     0,     0, ...,    12,    75, 16438],\n",
              "       [    0,     0,     0, ...,  5067,  4875,  1774],\n",
              "       [    0,     0,     0, ...,    21,   723,   198]], dtype=int32)"
            ]
          },
          "execution_count": 71,
          "metadata": {},
          "output_type": "execute_result"
        }
      ]
    },
    {
      "cell_type": "code",
      "metadata": {
        "colab": {
          "base_uri": "https://localhost:8080/"
        },
        "id": "g6ersFTfqs-q",
        "outputId": "cd6e005a-9cd5-4582-fdfb-b9bd3749aa5b"
      },
      "source": [
        "from sklearn.ensemble import VotingClassifier\n",
        "\n",
        "voting_classifier = VotingClassifier(estimators=[ ('m1',model1_sk),  ('m2',model2_sk),  ('m3',model3_sk)], voting='soft',flatten_transform=False)\n",
        "\n",
        "voting_classifier.fit(X_train,y_train.flatten())\n",
        "\n",
        "voting_classifier.score(X_test[:1000],y_test[:1000])"
      ],
      "execution_count": null,
      "outputs": [
        {
          "output_type": "execute_result",
          "data": {
            "text/plain": [
              "0.741"
            ]
          },
          "metadata": {},
          "execution_count": 43
        }
      ]
    },
    {
      "cell_type": "code",
      "metadata": {
        "colab": {
          "base_uri": "https://localhost:8080/"
        },
        "id": "MnNpeU8x2H4h",
        "outputId": "edbfeef7-c5f4-4099-ea21-b77b4ee56a45"
      },
      "source": [
        "voting_classifier.predict(X_test[:10])"
      ],
      "execution_count": null,
      "outputs": [
        {
          "data": {
            "text/plain": [
              "array([0, 0, 0, 0, 0, 1, 0, 0, 1, 0])"
            ]
          },
          "execution_count": 51,
          "metadata": {},
          "output_type": "execute_result"
        }
      ]
    },
    {
      "cell_type": "code",
      "metadata": {
        "colab": {
          "base_uri": "https://localhost:8080/"
        },
        "id": "vK7gzTATodCn",
        "outputId": "b6be4204-bf17-43cb-eea7-54e3d316d90a"
      },
      "source": [
        "model1_sk.fit(X_train,y_train)\n",
        "model2_sk.fit(X_train,y_train)\n",
        "model3_sk.fit(X_train,y_train)"
      ],
      "execution_count": null,
      "outputs": [
        {
          "data": {
            "text/plain": [
              "<keras.callbacks.History at 0x7fcdb48d6710>"
            ]
          },
          "execution_count": 54,
          "metadata": {},
          "output_type": "execute_result"
        }
      ]
    },
    {
      "cell_type": "markdown",
      "metadata": {
        "id": "dG4S6JAqd4lT"
      },
      "source": [
        "## Reporte de metricas"
      ]
    },
    {
      "cell_type": "markdown",
      "metadata": {
        "id": "NPvDgdVDndDS"
      },
      "source": [
        "Para el reporte utilizare un subset de 5000 instancias porque si uso el 20% se tarda mucho"
      ]
    },
    {
      "cell_type": "code",
      "metadata": {
        "id": "Y_cbawcjl3ls"
      },
      "source": [
        "from sklearn.metrics import accuracy_score,f1_score,recall_score,precision_score,confusion_matrix\n",
        "import cv2\n",
        "from matplotlib import pyplot as plt"
      ],
      "execution_count": null,
      "outputs": []
    },
    {
      "cell_type": "code",
      "metadata": {
        "id": "82eb8nfXn3EZ"
      },
      "source": [
        "X_test_sub = X_test[:5000]\n",
        "y_test_sub = y_test[:5000]"
      ],
      "execution_count": null,
      "outputs": []
    },
    {
      "cell_type": "code",
      "metadata": {
        "colab": {
          "base_uri": "https://localhost:8080/"
        },
        "id": "rQuB9cxut_aG",
        "outputId": "76ca8cd5-f7d9-489d-c249-bca178b53894"
      },
      "source": [
        "X_test_sub.shape"
      ],
      "execution_count": null,
      "outputs": [
        {
          "data": {
            "text/plain": [
              "(5000, 1448)"
            ]
          },
          "execution_count": 76,
          "metadata": {},
          "output_type": "execute_result"
        }
      ]
    },
    {
      "cell_type": "markdown",
      "metadata": {
        "id": "dIEBUEV2d9Sp"
      },
      "source": [
        "### Modelo 1"
      ]
    },
    {
      "cell_type": "code",
      "metadata": {
        "colab": {
          "base_uri": "https://localhost:8080/",
          "height": 243
        },
        "id": "V_Du4W3KjR_k",
        "outputId": "a1565819-7871-4ff0-8a32-2b60480b1cef"
      },
      "source": [
        "img = cv2.imread(\"/content/SentimentAnalysis-Tensorflow/Imagenes/Model1_acc.png\")\n",
        "img_cvt=cv2.cvtColor(img, cv2.COLOR_BGR2RGB)\n",
        "plt.imshow(img_cvt)\n",
        "plt.axis(\"off\")\n",
        "plt.show()"
      ],
      "execution_count": null,
      "outputs": [
        {
          "data": {
            "image/png": "[encoded data removed]",
            "text/plain": [
              "<Figure size 432x288 with 1 Axes>"
            ]
          },
          "metadata": {},
          "output_type": "display_data"
        }
      ]
    },
    {
      "cell_type": "code",
      "metadata": {
        "colab": {
          "base_uri": "https://localhost:8080/",
          "height": 248
        },
        "id": "F8zD8V8cjywd",
        "outputId": "e2133996-9500-40b7-ccb5-38d5a382275b"
      },
      "source": [
        "img = cv2.imread(\"/content/SentimentAnalysis-Tensorflow/Imagenes/Model1_loss.png\")\n",
        "img_cvt=cv2.cvtColor(img, cv2.COLOR_BGR2RGB)\n",
        "plt.imshow(img_cvt)\n",
        "plt.axis(\"off\")\n",
        "plt.show()"
      ],
      "execution_count": null,
      "outputs": [
        {
          "data": {
            "image/png": "[encoded data removed]",
            "text/plain": [
              "<Figure size 432x288 with 1 Axes>"
            ]
          },
          "metadata": {},
          "output_type": "display_data"
        }
      ]
    },
    {
      "cell_type": "code",
      "metadata": {
        "id": "ztxCigBtoSg1"
      },
      "source": [
        "model1_predictions = model1_sk.predict(X_test_sub)"
      ],
      "execution_count": null,
      "outputs": []
    },
    {
      "cell_type": "code",
      "metadata": {
        "colab": {
          "base_uri": "https://localhost:8080/"
        },
        "id": "cozZ3l2Pd81m",
        "outputId": "5880dbaa-ea34-447b-ddbd-814a95b5edea"
      },
      "source": [
        "print('Accuracy: '+str(accuracy_score(model1_predictions,y_test_sub)))\n",
        "print('F1 score: '+str(f1_score(model1_predictions,y_test_sub)))\n",
        "print('Recall: '+str(recall_score(model1_predictions,y_test_sub)))\n",
        "print('Precision: '+str(precision_score(model1_predictions,y_test_sub)))"
      ],
      "execution_count": null,
      "outputs": [
        {
          "name": "stdout",
          "output_type": "stream",
          "text": [
            "Accuracy: 0.7466\n",
            "F1 score: 0.7474586406218855\n",
            "Recall: 0.740521327014218\n",
            "Precision: 0.7545271629778671\n"
          ]
        }
      ]
    },
    {
      "cell_type": "markdown",
      "metadata": {
        "id": "ThKfpYi8d_Rv"
      },
      "source": [
        "### Modelo 2"
      ]
    },
    {
      "cell_type": "code",
      "metadata": {
        "colab": {
          "base_uri": "https://localhost:8080/",
          "height": 248
        },
        "id": "AsYnLJ01eKBu",
        "outputId": "7fcc0165-d3bc-4c89-c5d6-dac843276e54"
      },
      "source": [
        "img = cv2.imread(\"/content/SentimentAnalysis-Tensorflow/Imagenes/Model2_acc.png\")\n",
        "img_cvt=cv2.cvtColor(img, cv2.COLOR_BGR2RGB)\n",
        "plt.imshow(img_cvt)\n",
        "plt.axis(\"off\")\n",
        "plt.show()"
      ],
      "execution_count": null,
      "outputs": [
        {
          "data": {
            "image/png": "[encoded data removed]",
            "text/plain": [
              "<Figure size 432x288 with 1 Axes>"
            ]
          },
          "metadata": {},
          "output_type": "display_data"
        }
      ]
    },
    {
      "cell_type": "code",
      "metadata": {
        "colab": {
          "base_uri": "https://localhost:8080/",
          "height": 248
        },
        "id": "F3UojhiXo_0K",
        "outputId": "9244008f-68ce-46c9-8f00-151d37a76e2a"
      },
      "source": [
        "img = cv2.imread(\"/content/SentimentAnalysis-Tensorflow/Imagenes/Model2_loss.png\")\n",
        "img_cvt=cv2.cvtColor(img, cv2.COLOR_BGR2RGB)\n",
        "plt.imshow(img_cvt)\n",
        "plt.axis(\"off\")\n",
        "plt.show()"
      ],
      "execution_count": null,
      "outputs": [
        {
          "data": {
            "image/png": "[encoded data removed]",
            "text/plain": [
              "<Figure size 432x288 with 1 Axes>"
            ]
          },
          "metadata": {},
          "output_type": "display_data"
        }
      ]
    },
    {
      "cell_type": "code",
      "metadata": {
        "id": "GuEVmCxjpC4d"
      },
      "source": [
        "model2_predictions = model2_sk.predict(X_test_sub)"
      ],
      "execution_count": null,
      "outputs": []
    },
    {
      "cell_type": "code",
      "metadata": {
        "colab": {
          "base_uri": "https://localhost:8080/"
        },
        "id": "L-zl3TAapGmt",
        "outputId": "a8ac7f95-cd5d-4ee7-906b-b29a8390b967"
      },
      "source": [
        "print('Accuracy: '+str(accuracy_score(model2_predictions,y_test_sub)))\n",
        "print('F1 score: '+str(f1_score(model2_predictions,y_test_sub)))\n",
        "print('Recall: '+str(recall_score(model2_predictions,y_test_sub)))\n",
        "print('Precision: '+str(precision_score(model2_predictions,y_test_sub)))"
      ],
      "execution_count": null,
      "outputs": [
        {
          "name": "stdout",
          "output_type": "stream",
          "text": [
            "Accuracy: 0.7466\n",
            "F1 score: 0.7474586406218855\n",
            "Recall: 0.740521327014218\n",
            "Precision: 0.7545271629778671\n"
          ]
        }
      ]
    },
    {
      "cell_type": "markdown",
      "metadata": {
        "id": "8VdAtZUgeCzf"
      },
      "source": [
        "### Modelo 3"
      ]
    },
    {
      "cell_type": "code",
      "metadata": {
        "colab": {
          "base_uri": "https://localhost:8080/",
          "height": 247
        },
        "id": "N9gNGrykeE1s",
        "outputId": "a9377470-22c8-4f21-ad07-b4a5194386aa"
      },
      "source": [
        "img = cv2.imread(\"/content/SentimentAnalysis-Tensorflow/Imagenes/Model3_acc.png\")\n",
        "img_cvt=cv2.cvtColor(img, cv2.COLOR_BGR2RGB)\n",
        "plt.imshow(img_cvt)\n",
        "plt.axis(\"off\")\n",
        "plt.show()"
      ],
      "execution_count": null,
      "outputs": [
        {
          "data": {
            "image/png": "[encoded data removed]",
            "text/plain": [
              "<Figure size 432x288 with 1 Axes>"
            ]
          },
          "metadata": {},
          "output_type": "display_data"
        }
      ]
    },
    {
      "cell_type": "code",
      "metadata": {
        "colab": {
          "base_uri": "https://localhost:8080/",
          "height": 248
        },
        "id": "CK2B6wQmpL6i",
        "outputId": "43e7c310-4ffe-4d63-8b46-0e348ae0ea3b"
      },
      "source": [
        "img = cv2.imread(\"/content/SentimentAnalysis-Tensorflow/Imagenes/Model3_loss.png\")\n",
        "img_cvt=cv2.cvtColor(img, cv2.COLOR_BGR2RGB)\n",
        "plt.imshow(img_cvt)\n",
        "plt.axis(\"off\")\n",
        "plt.show()"
      ],
      "execution_count": null,
      "outputs": [
        {
          "data": {
            "image/png": "[encoded data removed]",
            "text/plain": [
              "<Figure size 432x288 with 1 Axes>"
            ]
          },
          "metadata": {},
          "output_type": "display_data"
        }
      ]
    },
    {
      "cell_type": "code",
      "metadata": {
        "id": "VBQvIyQYpOj4"
      },
      "source": [
        "model3_predictions = model3_sk.predict(X_test_sub)"
      ],
      "execution_count": null,
      "outputs": []
    },
    {
      "cell_type": "code",
      "metadata": {
        "colab": {
          "base_uri": "https://localhost:8080/"
        },
        "id": "kWTkfQ_zpRsB",
        "outputId": "0e1b25d4-2da3-47de-ed9f-9f787a79ce42"
      },
      "source": [
        "print('Accuracy: '+str(accuracy_score(model3_predictions,y_test_sub)))\n",
        "print('F1 score: '+str(f1_score(model3_predictions,y_test_sub)))\n",
        "print('Recall: '+str(recall_score(model3_predictions,y_test_sub)))\n",
        "print('Precision: '+str(precision_score(model3_predictions,y_test_sub)))"
      ],
      "execution_count": null,
      "outputs": [
        {
          "name": "stdout",
          "output_type": "stream",
          "text": [
            "Accuracy: 0.7566\n",
            "F1 score: 0.7576180043815973\n",
            "Recall: 0.75\n",
            "Precision: 0.7653923541247485\n"
          ]
        }
      ]
    },
    {
      "cell_type": "markdown",
      "metadata": {
        "id": "V78vAnQPpc4o"
      },
      "source": [
        "### Voting Classifier"
      ]
    },
    {
      "cell_type": "code",
      "metadata": {
        "id": "sLT5Ca_hpf6q"
      },
      "source": [
        "vclass_predictions = voting_classifier.predict(X_test_sub)"
      ],
      "execution_count": null,
      "outputs": []
    },
    {
      "cell_type": "code",
      "metadata": {
        "colab": {
          "base_uri": "https://localhost:8080/"
        },
        "id": "y2jypH-YqCSW",
        "outputId": "96f6dc2b-95bb-4e51-882f-0549aeb7ebb7"
      },
      "source": [
        "print('Accuracy: '+str(accuracy_score(vclass_predictions,y_test_sub)))\n",
        "print('F1 score: '+str(f1_score(vclass_predictions,y_test_sub)))\n",
        "print('Recall: '+str(recall_score(vclass_predictions,y_test_sub)))\n",
        "print('Precision: '+str(precision_score(vclass_predictions,y_test_sub)))"
      ],
      "execution_count": null,
      "outputs": [
        {
          "name": "stdout",
          "output_type": "stream",
          "text": [
            "Accuracy: 0.7618\n",
            "F1 score: 0.7634558093346574\n",
            "Recall: 0.7537254901960785\n",
            "Precision: 0.7734406438631791\n"
          ]
        }
      ]
    }
  ]
}